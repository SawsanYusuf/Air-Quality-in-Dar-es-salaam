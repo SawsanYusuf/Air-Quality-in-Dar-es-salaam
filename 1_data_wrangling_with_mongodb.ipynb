{
  "nbformat": 4,
  "nbformat_minor": 0,
  "metadata": {
    "colab": {
      "provenance": [],
      "authorship_tag": "ABX9TyMIGHowlIBoCgwB4Q5FCcvv",
      "include_colab_link": true
    },
    "kernelspec": {
      "name": "python3",
      "display_name": "Python 3"
    },
    "language_info": {
      "name": "python"
    }
  },
  "cells": [
    {
      "cell_type": "markdown",
      "metadata": {
        "id": "view-in-github",
        "colab_type": "text"
      },
      "source": [
        "<a href=\"https://colab.research.google.com/github/SawsanYusuf/Air-Quality-in-China/blob/main/1_data_wrangling_with_mongodb.ipynb\" target=\"_parent\"><img src=\"https://colab.research.google.com/assets/colab-badge.svg\" alt=\"Open In Colab\"/></a>"
      ]
    },
    {
      "cell_type": "markdown",
      "source": [
        "<font size=\"+3\"><strong>Data Wrangling with Mongodb</strong></font>"
      ],
      "metadata": {
        "id": "9pMtGXyTSSgo"
      }
    },
    {
      "cell_type": "code",
      "execution_count": 2,
      "metadata": {
        "id": "s0l_nOAUUHpp"
      },
      "outputs": [],
      "source": [
        "from pprint import PrettyPrinter\n",
        "import pandas as pd\n",
        "from pymongo import MongoClient"
      ]
    },
    {
      "cell_type": "markdown",
      "source": [
        "**Step 1:** Instantiate a PrettyPrinter, and assign it to the variable pp."
      ],
      "metadata": {
        "id": "wFeYa2cmULyZ"
      }
    },
    {
      "cell_type": "code",
      "source": [
        "pp = PrettyPrinter (indent= 2)"
      ],
      "metadata": {
        "id": "wTsLErbJUUlG"
      },
      "execution_count": 3,
      "outputs": []
    },
    {
      "cell_type": "markdown",
      "source": [
        "# Prepare Data"
      ],
      "metadata": {
        "id": "aQeXj1b2ZVY0"
      }
    },
    {
      "cell_type": "markdown",
      "source": [
        "## Connect"
      ],
      "metadata": {
        "id": "YUvRiSYyZXTA"
      }
    },
    {
      "cell_type": "markdown",
      "source": [
        "**Step 2:** Create a client that connects to the database running at `localhost` on port `27017`."
      ],
      "metadata": {
        "id": "Svjh9jm4Ue3T"
      }
    },
    {
      "cell_type": "code",
      "source": [
        "client = MongoClient(host=\"localhost\", port=27017)"
      ],
      "metadata": {
        "id": "g8NCnUORUiA9"
      },
      "execution_count": null,
      "outputs": []
    },
    {
      "cell_type": "markdown",
      "source": [
        "## Explore"
      ],
      "metadata": {
        "id": "lO7PC1PtZb5k"
      }
    },
    {
      "cell_type": "markdown",
      "source": [
        "**Step 3:** Print a list of the databases available on client."
      ],
      "metadata": {
        "id": "vRkyc7tsUmEe"
      }
    },
    {
      "cell_type": "code",
      "source": [
        "pp.pprint(list(client.list_databases()))"
      ],
      "metadata": {
        "id": "PkiTDBTBUqZs",
        "colab": {
          "base_uri": "https://localhost:8080/"
        },
        "outputId": "110941ab-d751-494d-ac42-778d1ae1c387"
      },
      "execution_count": 5,
      "outputs": [
        {
          "output_type": "stream",
          "name": "stdout",
          "text": [
            "[ {'empty': False, 'name': 'Air-Quality', 'sizeOnDisk': 8118272},\n",
            "  {'empty': False, 'name': 'sample_airbnb', 'sizeOnDisk': 55005184},\n",
            "  {'empty': False, 'name': 'sample_analytics', 'sizeOnDisk': 9592832},\n",
            "  {'empty': False, 'name': 'sample_geospatial', 'sizeOnDisk': 1404928},\n",
            "  {'empty': False, 'name': 'sample_restaurants', 'sizeOnDisk': 6901760},\n",
            "  {'empty': False, 'name': 'sample_weatherdata', 'sizeOnDisk': 2895872},\n",
            "  {'empty': False, 'name': 'admin', 'sizeOnDisk': 344064},\n",
            "  {'empty': False, 'name': 'local', 'sizeOnDisk': 25189883904}]\n"
          ]
        }
      ]
    },
    {
      "cell_type": "markdown",
      "source": [
        "**Step 4:** Assign the `\"air-quality\"` database to the variable db."
      ],
      "metadata": {
        "id": "gW0VXzMlUznP"
      }
    },
    {
      "cell_type": "code",
      "source": [
        "db = client[\"Air-Quality\"]"
      ],
      "metadata": {
        "id": "uROnX8CLU0zz"
      },
      "execution_count": 6,
      "outputs": []
    },
    {
      "cell_type": "markdown",
      "source": [
        "**Step 5:** Use the `list_collections` method to print a list of the collections available in `db`."
      ],
      "metadata": {
        "id": "C1PuRZs-U9Kl"
      }
    },
    {
      "cell_type": "code",
      "source": [
        "for c in db.list_collections():\n",
        "    print(c[\"name\"])"
      ],
      "metadata": {
        "id": "1MynDaXEU-z1",
        "colab": {
          "base_uri": "https://localhost:8080/"
        },
        "outputId": "d39e782a-98d3-4978-cd8a-b6799faf7cf4"
      },
      "execution_count": 7,
      "outputs": [
        {
          "output_type": "stream",
          "name": "stdout",
          "text": [
            "beijing\n",
            "mumbai\n",
            "Delhi\n"
          ]
        }
      ]
    },
    {
      "cell_type": "markdown",
      "source": [
        "**Step 6:** Assign the `\"beijing\"` collection in db to the variable name beijing."
      ],
      "metadata": {
        "id": "psNtt3OxVH6t"
      }
    },
    {
      "cell_type": "code",
      "source": [
        "beijing = db[\"beijing\"]"
      ],
      "metadata": {
        "id": "YyCWlNKBVJ2d"
      },
      "execution_count": 8,
      "outputs": []
    },
    {
      "cell_type": "markdown",
      "source": [
        "**Step 7:** Use the `count_documents` method to see how many documents are in the beijing\n",
        "collection."
      ],
      "metadata": {
        "id": "GX3noY-1VOcV"
      }
    },
    {
      "cell_type": "code",
      "source": [
        "beijing.count_documents({})"
      ],
      "metadata": {
        "id": "J2pc56bYVQVJ",
        "colab": {
          "base_uri": "https://localhost:8080/"
        },
        "outputId": "5d4ba73b-d02c-4407-f4e0-a12a2acf65bc"
      },
      "execution_count": 9,
      "outputs": [
        {
          "output_type": "execute_result",
          "data": {
            "text/plain": [
              "116027"
            ]
          },
          "metadata": {},
          "execution_count": 9
        }
      ]
    },
    {
      "cell_type": "markdown",
      "source": [
        "**Step 8:** Use the `find_one` method to retrieve one document from the beijing collection, and\n",
        "assign it to the variable name result."
      ],
      "metadata": {
        "id": "grX5NV1HVWth"
      }
    },
    {
      "cell_type": "code",
      "source": [
        "result = beijing.find_one({})\n",
        "pp.pprint(result)"
      ],
      "metadata": {
        "id": "zmEMd1o5VYcM",
        "colab": {
          "base_uri": "https://localhost:8080/"
        },
        "outputId": "65249943-706b-431a-e65e-3a2b04dc9d17"
      },
      "execution_count": 10,
      "outputs": [
        {
          "output_type": "stream",
          "name": "stdout",
          "text": [
            "{ 'PM2': 4,\n",
            "  '_id': ObjectId('64d5173b5c3e40269fce34fb'),\n",
            "  'metadata': { 'lat': 25.055,\n",
            "                'lon': 121.454,\n",
            "                'measurement': 'PM2.5',\n",
            "                'sensor_type': 'SDS011',\n",
            "                'station': 'Aotizhongxin'},\n",
            "  'timestamp': '2013-3-1 0:27:46'}\n"
          ]
        }
      ]
    },
    {
      "cell_type": "markdown",
      "source": [
        "**Step 9:** Use the `distinct` method to determine how many sensor sites are included in the\n",
        "beijing collection."
      ],
      "metadata": {
        "id": "fJghUf9HVfzX"
      }
    },
    {
      "cell_type": "code",
      "source": [
        "beijing.distinct(\"metadata.station\")"
      ],
      "metadata": {
        "id": "AyDCCAu-VfJV",
        "colab": {
          "base_uri": "https://localhost:8080/"
        },
        "outputId": "e6352a39-72dc-46fc-8ab6-c01efe58a4f5"
      },
      "execution_count": 11,
      "outputs": [
        {
          "output_type": "execute_result",
          "data": {
            "text/plain": [
              "['Aotizhongxin', 'Changping']"
            ]
          },
          "metadata": {},
          "execution_count": 11
        }
      ]
    },
    {
      "cell_type": "markdown",
      "source": [
        "**Step 10:** Use the `count_documents` method to determine how many readings there are for\n",
        "each site in the beijing collection."
      ],
      "metadata": {
        "id": "sXxOTKm-V4Gn"
      }
    },
    {
      "cell_type": "code",
      "source": [
        "print(\"Documents from Aotizhongxin Station:\", beijing.count_documents({\"metadata.station\":\"Aotizhongxin\"}))\n",
        "print(\"Documents from Changping Station:\", beijing.count_documents({\"metadata.station\": \"Changping\"}))"
      ],
      "metadata": {
        "id": "Kzo18lzuWBzN",
        "colab": {
          "base_uri": "https://localhost:8080/"
        },
        "outputId": "db0c07c6-9cee-4e5d-a398-e63fb05a6fe3"
      },
      "execution_count": 12,
      "outputs": [
        {
          "output_type": "stream",
          "name": "stdout",
          "text": [
            "Documents from Aotizhongxin Station: 62219\n",
            "Documents from Changping Station: 53808\n"
          ]
        }
      ]
    },
    {
      "cell_type": "markdown",
      "source": [
        "**Step 11:** Use the `aggregate` method to determine how many readings there are for each site\n",
        "in the beijing collection."
      ],
      "metadata": {
        "id": "8Iqo_ILXWGsJ"
      }
    },
    {
      "cell_type": "code",
      "source": [
        "result = beijing.aggregate(\n",
        "       [\n",
        "           {\"$group\":{\"_id\": \"$metadata.station\",\"count\":{\"$count\":{}}}}\n",
        "       ]\n",
        ")\n",
        "pp.pprint(list(result))"
      ],
      "metadata": {
        "id": "IUDPrhJPWJSV",
        "colab": {
          "base_uri": "https://localhost:8080/"
        },
        "outputId": "586a0f39-a38f-4d08-cfd0-ba24dbbc24a5"
      },
      "execution_count": 13,
      "outputs": [
        {
          "output_type": "stream",
          "name": "stdout",
          "text": [
            "[{'_id': 'Changping', 'count': 53808}, {'_id': 'Aotizhongxin', 'count': 62219}]\n"
          ]
        }
      ]
    },
    {
      "cell_type": "markdown",
      "source": [
        "**Step 12:** Use the `distinct` method to determine how many types of measurements have been\n",
        "taken in the beijing collection."
      ],
      "metadata": {
        "id": "ZiUUqWq7WRYf"
      }
    },
    {
      "cell_type": "code",
      "source": [
        "beijing.distinct(\"metadata.measurement\")"
      ],
      "metadata": {
        "id": "UhKsSNg9WTQw",
        "colab": {
          "base_uri": "https://localhost:8080/"
        },
        "outputId": "dd889327-7988-4e1a-9fd9-bfc6d98360f2"
      },
      "execution_count": 14,
      "outputs": [
        {
          "output_type": "execute_result",
          "data": {
            "text/plain": [
              "['O3', 'PM10', 'PM2.5']"
            ]
          },
          "metadata": {},
          "execution_count": 14
        }
      ]
    },
    {
      "cell_type": "markdown",
      "source": [
        "**Step 13:** Use the find method to retrieve the PM 2.5 readings from all sites. Be sure to limit\n",
        "your results to 3 records only."
      ],
      "metadata": {
        "id": "H7Nl_-WuWXu-"
      }
    },
    {
      "cell_type": "code",
      "source": [
        "result = beijing.find({\"metadata.measurement\": \"PM2.5\"}). limit (3)\n",
        "pp.pprint(list(result))"
      ],
      "metadata": {
        "id": "Fl_HjgRiWZ9S",
        "colab": {
          "base_uri": "https://localhost:8080/"
        },
        "outputId": "134f2520-8f72-4910-b8db-7206c612760f"
      },
      "execution_count": 15,
      "outputs": [
        {
          "output_type": "stream",
          "name": "stdout",
          "text": [
            "[ { 'PM2': 4,\n",
            "    '_id': ObjectId('64d5173b5c3e40269fce34fb'),\n",
            "    'metadata': { 'lat': 25.055,\n",
            "                  'lon': 121.454,\n",
            "                  'measurement': 'PM2.5',\n",
            "                  'sensor_type': 'SDS011',\n",
            "                  'station': 'Aotizhongxin'},\n",
            "    'timestamp': '2013-3-1 0:27:46'},\n",
            "  { 'PM2': 8,\n",
            "    '_id': ObjectId('64d5173b5c3e40269fce34fc'),\n",
            "    'metadata': { 'lat': 25.055,\n",
            "                  'lon': 121.454,\n",
            "                  'measurement': 'PM2.5',\n",
            "                  'sensor_type': 'SDS011',\n",
            "                  'station': 'Aotizhongxin'},\n",
            "    'timestamp': '2013-3-1 1:20:53'},\n",
            "  { 'PM2': 7,\n",
            "    '_id': ObjectId('64d5173b5c3e40269fce34fd'),\n",
            "    'metadata': { 'lat': 25.055,\n",
            "                  'lon': 121.454,\n",
            "                  'measurement': 'PM2.5',\n",
            "                  'sensor_type': 'SDS011',\n",
            "                  'station': 'Aotizhongxin'},\n",
            "    'timestamp': '2013-3-1 2:58:24'}]\n"
          ]
        }
      ]
    },
    {
      "cell_type": "markdown",
      "source": [
        "**Step 14:** Use the aggregate method to calculate how many readings there are for each type\n",
        "`(\"PM2.5\", \"PM10\", and \"O3\")` in `Aotizhongxin`."
      ],
      "metadata": {
        "id": "rm26gjCKWd6R"
      }
    },
    {
      "cell_type": "code",
      "source": [
        "result = beijing.aggregate(\n",
        "      [\n",
        "          {\"$match\":{\"metadata.station\":'Aotizhongxin'}},\n",
        "          {\"$group\":{\"_id\": \"$metadata.measurement\",\"count\":{\"$count\":{}}}}\n",
        "      ]\n",
        ")\n",
        "pp.pprint(list(result))"
      ],
      "metadata": {
        "id": "BlgbpsZeWibf",
        "colab": {
          "base_uri": "https://localhost:8080/"
        },
        "outputId": "2a3750f2-8424-4e2e-f40c-dbac7625a312"
      },
      "execution_count": 16,
      "outputs": [
        {
          "output_type": "stream",
          "name": "stdout",
          "text": [
            "[ {'_id': 'PM2.5', 'count': 18759},\n",
            "  {'_id': 'PM10', 'count': 31188},\n",
            "  {'_id': 'O3', 'count': 12272}]\n"
          ]
        }
      ]
    },
    {
      "cell_type": "markdown",
      "source": [
        "**Step 15:** Use the aggregate method to calculate how many readings there are for each type\n",
        "`(\"PM2.5\", \"PM10\", and \"O3\")` in `Changping`."
      ],
      "metadata": {
        "id": "uxXRxHMLWqLZ"
      }
    },
    {
      "cell_type": "code",
      "source": [
        "result = beijing.aggregate(\n",
        "     [\n",
        "          {\"$match\":{\"metadata.station\":'Changping'}},\n",
        "          {\"$group\":{\"_id\": \"$metadata.measurement\",\"count\":{\"$count\":{}}}}\n",
        "     ]\n",
        ")\n",
        "pp.pprint(list(result))"
      ],
      "metadata": {
        "id": "k2g2PgDrWvQ5",
        "colab": {
          "base_uri": "https://localhost:8080/"
        },
        "outputId": "4f4f6dd0-a20d-43a3-f3a3-11f3eb14afd1"
      },
      "execution_count": 17,
      "outputs": [
        {
          "output_type": "stream",
          "name": "stdout",
          "text": [
            "[ {'_id': 'O3', 'count': 11525},\n",
            "  {'_id': 'PM2.5', 'count': 27654},\n",
            "  {'_id': 'PM10', 'count': 14629}]\n"
          ]
        }
      ]
    },
    {
      "cell_type": "markdown",
      "source": [
        "## Import"
      ],
      "metadata": {
        "id": "Wy9JsWPGZk1G"
      }
    },
    {
      "cell_type": "markdown",
      "source": [
        "**Step 16:** Use the find method to retrieve the `PM 2.5` readings from `Aotizhongxin`. Be sure to limit\n",
        "your results to 3 records only. Since we won’t need the metadata for our model, use the projection\n",
        "argument to limit the results to the `\"PM2\"` and `\"timestamp\"` keys only."
      ],
      "metadata": {
        "id": "cdYw-h3TW4lS"
      }
    },
    {
      "cell_type": "code",
      "source": [
        "result = beijing.find(\n",
        "       {\"metadata.station\":\"Aotizhongxin\",\"metadata.measurement\":\"PM2.5\"},\n",
        "       projection= {\"PM2\":1,\"timestamp\":1,\"_id\":0}\n",
        ")\n",
        "pp.pprint(result.next())"
      ],
      "metadata": {
        "id": "fpiToeosW6oT",
        "colab": {
          "base_uri": "https://localhost:8080/"
        },
        "outputId": "257a920a-5980-47f4-f2bf-f2a8bbe936fe"
      },
      "execution_count": 18,
      "outputs": [
        {
          "output_type": "stream",
          "name": "stdout",
          "text": [
            "{'PM2': 4, 'timestamp': '2013-3-1 0:27:46'}\n"
          ]
        }
      ]
    },
    {
      "cell_type": "markdown",
      "source": [
        "**Task 17:** Read records from your result into the DataFrame df. Be sure to set the index to\n",
        "`\"timestamp\"`."
      ],
      "metadata": {
        "id": "dejg7VA-XDc-"
      }
    },
    {
      "cell_type": "code",
      "source": [
        "df = pd.DataFrame(result).set_index(\"timestamp\")\n",
        "df.head()"
      ],
      "metadata": {
        "id": "Ip6p1C7CXGpZ",
        "colab": {
          "base_uri": "https://localhost:8080/",
          "height": 238
        },
        "outputId": "916a9135-a834-4bc6-94ca-1846e347df6c"
      },
      "execution_count": 19,
      "outputs": [
        {
          "output_type": "execute_result",
          "data": {
            "text/plain": [
              "                     PM2\n",
              "timestamp               \n",
              "2013-03-01 01:20:53  8.0\n",
              "2013-03-01 02:58:24  7.0\n",
              "2013-03-01 03:32:40  6.0\n",
              "2013-03-01 04:29:44  3.0\n",
              "2013-03-01 05:31:46  5.0"
            ],
            "text/html": [
              "\n",
              "\n",
              "  <div id=\"df-53e05f5c-3e43-460b-9789-953193807c03\">\n",
              "    <div class=\"colab-df-container\">\n",
              "      <div>\n",
              "<style scoped>\n",
              "    .dataframe tbody tr th:only-of-type {\n",
              "        vertical-align: middle;\n",
              "    }\n",
              "\n",
              "    .dataframe tbody tr th {\n",
              "        vertical-align: top;\n",
              "    }\n",
              "\n",
              "    .dataframe thead th {\n",
              "        text-align: right;\n",
              "    }\n",
              "</style>\n",
              "<table border=\"1\" class=\"dataframe\">\n",
              "  <thead>\n",
              "    <tr style=\"text-align: right;\">\n",
              "      <th></th>\n",
              "      <th>PM2</th>\n",
              "    </tr>\n",
              "    <tr>\n",
              "      <th>timestamp</th>\n",
              "      <th></th>\n",
              "    </tr>\n",
              "  </thead>\n",
              "  <tbody>\n",
              "    <tr>\n",
              "      <th>2013-03-01 01:20:53</th>\n",
              "      <td>8.0</td>\n",
              "    </tr>\n",
              "    <tr>\n",
              "      <th>2013-03-01 02:58:24</th>\n",
              "      <td>7.0</td>\n",
              "    </tr>\n",
              "    <tr>\n",
              "      <th>2013-03-01 03:32:40</th>\n",
              "      <td>6.0</td>\n",
              "    </tr>\n",
              "    <tr>\n",
              "      <th>2013-03-01 04:29:44</th>\n",
              "      <td>3.0</td>\n",
              "    </tr>\n",
              "    <tr>\n",
              "      <th>2013-03-01 05:31:46</th>\n",
              "      <td>5.0</td>\n",
              "    </tr>\n",
              "  </tbody>\n",
              "</table>\n",
              "</div>\n",
              "      <button class=\"colab-df-convert\" onclick=\"convertToInteractive('df-53e05f5c-3e43-460b-9789-953193807c03')\"\n",
              "              title=\"Convert this dataframe to an interactive table.\"\n",
              "              style=\"display:none;\">\n",
              "\n",
              "  <svg xmlns=\"http://www.w3.org/2000/svg\" height=\"24px\"viewBox=\"0 0 24 24\"\n",
              "       width=\"24px\">\n",
              "    <path d=\"M0 0h24v24H0V0z\" fill=\"none\"/>\n",
              "    <path d=\"M18.56 5.44l.94 2.06.94-2.06 2.06-.94-2.06-.94-.94-2.06-.94 2.06-2.06.94zm-11 1L8.5 8.5l.94-2.06 2.06-.94-2.06-.94L8.5 2.5l-.94 2.06-2.06.94zm10 10l.94 2.06.94-2.06 2.06-.94-2.06-.94-.94-2.06-.94 2.06-2.06.94z\"/><path d=\"M17.41 7.96l-1.37-1.37c-.4-.4-.92-.59-1.43-.59-.52 0-1.04.2-1.43.59L10.3 9.45l-7.72 7.72c-.78.78-.78 2.05 0 2.83L4 21.41c.39.39.9.59 1.41.59.51 0 1.02-.2 1.41-.59l7.78-7.78 2.81-2.81c.8-.78.8-2.07 0-2.86zM5.41 20L4 18.59l7.72-7.72 1.47 1.35L5.41 20z\"/>\n",
              "  </svg>\n",
              "      </button>\n",
              "\n",
              "\n",
              "\n",
              "    <div id=\"df-1007a341-d066-4705-b646-8135ed068a05\">\n",
              "      <button class=\"colab-df-quickchart\" onclick=\"quickchart('df-1007a341-d066-4705-b646-8135ed068a05')\"\n",
              "              title=\"Suggest charts.\"\n",
              "              style=\"display:none;\">\n",
              "\n",
              "<svg xmlns=\"http://www.w3.org/2000/svg\" height=\"24px\"viewBox=\"0 0 24 24\"\n",
              "     width=\"24px\">\n",
              "    <g>\n",
              "        <path d=\"M19 3H5c-1.1 0-2 .9-2 2v14c0 1.1.9 2 2 2h14c1.1 0 2-.9 2-2V5c0-1.1-.9-2-2-2zM9 17H7v-7h2v7zm4 0h-2V7h2v10zm4 0h-2v-4h2v4z\"/>\n",
              "    </g>\n",
              "</svg>\n",
              "      </button>\n",
              "    </div>\n",
              "\n",
              "<style>\n",
              "  .colab-df-quickchart {\n",
              "    background-color: #E8F0FE;\n",
              "    border: none;\n",
              "    border-radius: 50%;\n",
              "    cursor: pointer;\n",
              "    display: none;\n",
              "    fill: #1967D2;\n",
              "    height: 32px;\n",
              "    padding: 0 0 0 0;\n",
              "    width: 32px;\n",
              "  }\n",
              "\n",
              "  .colab-df-quickchart:hover {\n",
              "    background-color: #E2EBFA;\n",
              "    box-shadow: 0px 1px 2px rgba(60, 64, 67, 0.3), 0px 1px 3px 1px rgba(60, 64, 67, 0.15);\n",
              "    fill: #174EA6;\n",
              "  }\n",
              "\n",
              "  [theme=dark] .colab-df-quickchart {\n",
              "    background-color: #3B4455;\n",
              "    fill: #D2E3FC;\n",
              "  }\n",
              "\n",
              "  [theme=dark] .colab-df-quickchart:hover {\n",
              "    background-color: #434B5C;\n",
              "    box-shadow: 0px 1px 3px 1px rgba(0, 0, 0, 0.15);\n",
              "    filter: drop-shadow(0px 1px 2px rgba(0, 0, 0, 0.3));\n",
              "    fill: #FFFFFF;\n",
              "  }\n",
              "</style>\n",
              "\n",
              "    <script>\n",
              "      async function quickchart(key) {\n",
              "        const containerElement = document.querySelector('#' + key);\n",
              "        const charts = await google.colab.kernel.invokeFunction(\n",
              "            'suggestCharts', [key], {});\n",
              "      }\n",
              "    </script>\n",
              "\n",
              "      <script>\n",
              "\n",
              "function displayQuickchartButton(domScope) {\n",
              "  let quickchartButtonEl =\n",
              "    domScope.querySelector('#df-1007a341-d066-4705-b646-8135ed068a05 button.colab-df-quickchart');\n",
              "  quickchartButtonEl.style.display =\n",
              "    google.colab.kernel.accessAllowed ? 'block' : 'none';\n",
              "}\n",
              "\n",
              "        displayQuickchartButton(document);\n",
              "      </script>\n",
              "      <style>\n",
              "    .colab-df-container {\n",
              "      display:flex;\n",
              "      flex-wrap:wrap;\n",
              "      gap: 12px;\n",
              "    }\n",
              "\n",
              "    .colab-df-convert {\n",
              "      background-color: #E8F0FE;\n",
              "      border: none;\n",
              "      border-radius: 50%;\n",
              "      cursor: pointer;\n",
              "      display: none;\n",
              "      fill: #1967D2;\n",
              "      height: 32px;\n",
              "      padding: 0 0 0 0;\n",
              "      width: 32px;\n",
              "    }\n",
              "\n",
              "    .colab-df-convert:hover {\n",
              "      background-color: #E2EBFA;\n",
              "      box-shadow: 0px 1px 2px rgba(60, 64, 67, 0.3), 0px 1px 3px 1px rgba(60, 64, 67, 0.15);\n",
              "      fill: #174EA6;\n",
              "    }\n",
              "\n",
              "    [theme=dark] .colab-df-convert {\n",
              "      background-color: #3B4455;\n",
              "      fill: #D2E3FC;\n",
              "    }\n",
              "\n",
              "    [theme=dark] .colab-df-convert:hover {\n",
              "      background-color: #434B5C;\n",
              "      box-shadow: 0px 1px 3px 1px rgba(0, 0, 0, 0.15);\n",
              "      filter: drop-shadow(0px 1px 2px rgba(0, 0, 0, 0.3));\n",
              "      fill: #FFFFFF;\n",
              "    }\n",
              "  </style>\n",
              "\n",
              "      <script>\n",
              "        const buttonEl =\n",
              "          document.querySelector('#df-53e05f5c-3e43-460b-9789-953193807c03 button.colab-df-convert');\n",
              "        buttonEl.style.display =\n",
              "          google.colab.kernel.accessAllowed ? 'block' : 'none';\n",
              "\n",
              "        async function convertToInteractive(key) {\n",
              "          const element = document.querySelector('#df-53e05f5c-3e43-460b-9789-953193807c03');\n",
              "          const dataTable =\n",
              "            await google.colab.kernel.invokeFunction('convertToInteractive',\n",
              "                                                     [key], {});\n",
              "          if (!dataTable) return;\n",
              "\n",
              "          const docLinkHtml = 'Like what you see? Visit the ' +\n",
              "            '<a target=\"_blank\" href=https://colab.research.google.com/notebooks/data_table.ipynb>data table notebook</a>'\n",
              "            + ' to learn more about interactive tables.';\n",
              "          element.innerHTML = '';\n",
              "          dataTable['output_type'] = 'display_data';\n",
              "          await google.colab.output.renderOutput(dataTable, element);\n",
              "          const docLink = document.createElement('div');\n",
              "          docLink.innerHTML = docLinkHtml;\n",
              "          element.appendChild(docLink);\n",
              "        }\n",
              "      </script>\n",
              "    </div>\n",
              "  </div>\n"
            ]
          },
          "metadata": {},
          "execution_count": 19
        }
      ]
    }
  ]
}