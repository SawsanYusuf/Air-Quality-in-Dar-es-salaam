{
  "nbformat": 4,
  "nbformat_minor": 0,
  "metadata": {
    "colab": {
      "provenance": []
    },
    "kernelspec": {
      "name": "python3",
      "display_name": "Python 3"
    },
    "language_info": {
      "name": "python"
    }
  },
  "cells": [
    {
      "cell_type": "markdown",
      "source": [
        "<font size=\"+3\"><strong>Linear Regression Model</strong></font>"
      ],
      "metadata": {
        "id": "N8u3wFfHSGn1"
      }
    },
    {
      "cell_type": "code",
      "execution_count": null,
      "metadata": {
        "id": "OTiIUnAFdCNK"
      },
      "outputs": [],
      "source": [
        "import matplotlib.pyplot as plt\n",
        "import pandas as pd\n",
        "import plotly.express as px\n",
        "import pytz\n",
        "from pymongo import MongoClient\n",
        "from sklearn.linear_model import LinearRegression\n",
        "from sklearn.metrics import mean_absolute_error"
      ]
    },
    {
      "cell_type": "markdown",
      "source": [
        "# Prepare Data"
      ],
      "metadata": {
        "id": "HGXsFg0Idbmd"
      }
    },
    {
      "cell_type": "markdown",
      "source": [
        "## Import"
      ],
      "metadata": {
        "id": "cTI_XXIQddCg"
      }
    },
    {
      "cell_type": "code",
      "source": [
        "# Connect to the `MongoDB` server\n",
        "client = MongoClient(host=\"localhost\", port= 27017)\n",
        "db = client[\"Air-Quality\"]\n",
        "dar = db[\"dar-es-salaam\"]"
      ],
      "metadata": {
        "id": "akX_VKTadmFh"
      },
      "execution_count": null,
      "outputs": []
    },
    {
      "cell_type": "code",
      "source": [
        "def wrangle(collection):\n",
        "     # Bring the data from the database are read into the DataFrame `df`\n",
        "     results = collection.find(\n",
        "         {\"metadata.site\": 11, \"metadata.measurement\": \"P2\"},\n",
        "         projection={\"P2\": 1, \"timestamp\": 1, \"_id\": 0},\n",
        "         )\n",
        "     # The index of df is the `timestamp` from the results\n",
        "     df = pd.DataFrame(results).set_index(\"timestamp\")\n",
        "\n",
        "     return df"
      ],
      "metadata": {
        "id": "kCgljHbgd2qN"
      },
      "execution_count": null,
      "outputs": []
    },
    {
      "cell_type": "code",
      "source": [
        "df= wrangle(dar)\n",
        "df.head()"
      ],
      "metadata": {
        "id": "YWXwMXn5eS6_",
        "colab": {
          "base_uri": "https://localhost:8080/",
          "height": 237
        },
        "outputId": "cf732095-b903-4f72-8890-df882fb867db"
      },
      "execution_count": null,
      "outputs": [
        {
          "output_type": "execute_result",
          "data": {
            "text/plain": [
              "                           P2\n",
              "timestamp                    \n",
              "2018-01-01 00:05:03.874  9.70\n",
              "2018-01-01 02:09:53.933  8.97\n",
              "2018-01-01 01:12:29.094  9.37\n",
              "2018-01-01 02:29:51.379  9.50\n",
              "2018-01-01 02:57:24.358  7.87"
            ],
            "text/html": [
              "\n",
              "  <div id=\"df-59e64b7c-ffb1-4dcb-91b8-f3e58bbe1878\" class=\"colab-df-container\">\n",
              "    <div>\n",
              "<style scoped>\n",
              "    .dataframe tbody tr th:only-of-type {\n",
              "        vertical-align: middle;\n",
              "    }\n",
              "\n",
              "    .dataframe tbody tr th {\n",
              "        vertical-align: top;\n",
              "    }\n",
              "\n",
              "    .dataframe thead th {\n",
              "        text-align: right;\n",
              "    }\n",
              "</style>\n",
              "<table border=\"1\" class=\"dataframe\">\n",
              "  <thead>\n",
              "    <tr style=\"text-align: right;\">\n",
              "      <th></th>\n",
              "      <th>P2</th>\n",
              "    </tr>\n",
              "    <tr>\n",
              "      <th>timestamp</th>\n",
              "      <th></th>\n",
              "    </tr>\n",
              "  </thead>\n",
              "  <tbody>\n",
              "    <tr>\n",
              "      <th>2018-01-01 00:05:03.874</th>\n",
              "      <td>9.70</td>\n",
              "    </tr>\n",
              "    <tr>\n",
              "      <th>2018-01-01 02:09:53.933</th>\n",
              "      <td>8.97</td>\n",
              "    </tr>\n",
              "    <tr>\n",
              "      <th>2018-01-01 01:12:29.094</th>\n",
              "      <td>9.37</td>\n",
              "    </tr>\n",
              "    <tr>\n",
              "      <th>2018-01-01 02:29:51.379</th>\n",
              "      <td>9.50</td>\n",
              "    </tr>\n",
              "    <tr>\n",
              "      <th>2018-01-01 02:57:24.358</th>\n",
              "      <td>7.87</td>\n",
              "    </tr>\n",
              "  </tbody>\n",
              "</table>\n",
              "</div>\n",
              "    <div class=\"colab-df-buttons\">\n",
              "\n",
              "  <div class=\"colab-df-container\">\n",
              "    <button class=\"colab-df-convert\" onclick=\"convertToInteractive('df-59e64b7c-ffb1-4dcb-91b8-f3e58bbe1878')\"\n",
              "            title=\"Convert this dataframe to an interactive table.\"\n",
              "            style=\"display:none;\">\n",
              "\n",
              "  <svg xmlns=\"http://www.w3.org/2000/svg\" height=\"24px\" viewBox=\"0 -960 960 960\">\n",
              "    <path d=\"M120-120v-720h720v720H120Zm60-500h600v-160H180v160Zm220 220h160v-160H400v160Zm0 220h160v-160H400v160ZM180-400h160v-160H180v160Zm440 0h160v-160H620v160ZM180-180h160v-160H180v160Zm440 0h160v-160H620v160Z\"/>\n",
              "  </svg>\n",
              "    </button>\n",
              "\n",
              "  <style>\n",
              "    .colab-df-container {\n",
              "      display:flex;\n",
              "      gap: 12px;\n",
              "    }\n",
              "\n",
              "    .colab-df-convert {\n",
              "      background-color: #E8F0FE;\n",
              "      border: none;\n",
              "      border-radius: 50%;\n",
              "      cursor: pointer;\n",
              "      display: none;\n",
              "      fill: #1967D2;\n",
              "      height: 32px;\n",
              "      padding: 0 0 0 0;\n",
              "      width: 32px;\n",
              "    }\n",
              "\n",
              "    .colab-df-convert:hover {\n",
              "      background-color: #E2EBFA;\n",
              "      box-shadow: 0px 1px 2px rgba(60, 64, 67, 0.3), 0px 1px 3px 1px rgba(60, 64, 67, 0.15);\n",
              "      fill: #174EA6;\n",
              "    }\n",
              "\n",
              "    .colab-df-buttons div {\n",
              "      margin-bottom: 4px;\n",
              "    }\n",
              "\n",
              "    [theme=dark] .colab-df-convert {\n",
              "      background-color: #3B4455;\n",
              "      fill: #D2E3FC;\n",
              "    }\n",
              "\n",
              "    [theme=dark] .colab-df-convert:hover {\n",
              "      background-color: #434B5C;\n",
              "      box-shadow: 0px 1px 3px 1px rgba(0, 0, 0, 0.15);\n",
              "      filter: drop-shadow(0px 1px 2px rgba(0, 0, 0, 0.3));\n",
              "      fill: #FFFFFF;\n",
              "    }\n",
              "  </style>\n",
              "\n",
              "    <script>\n",
              "      const buttonEl =\n",
              "        document.querySelector('#df-59e64b7c-ffb1-4dcb-91b8-f3e58bbe1878 button.colab-df-convert');\n",
              "      buttonEl.style.display =\n",
              "        google.colab.kernel.accessAllowed ? 'block' : 'none';\n",
              "\n",
              "      async function convertToInteractive(key) {\n",
              "        const element = document.querySelector('#df-59e64b7c-ffb1-4dcb-91b8-f3e58bbe1878');\n",
              "        const dataTable =\n",
              "          await google.colab.kernel.invokeFunction('convertToInteractive',\n",
              "                                                    [key], {});\n",
              "        if (!dataTable) return;\n",
              "\n",
              "        const docLinkHtml = 'Like what you see? Visit the ' +\n",
              "          '<a target=\"_blank\" href=https://colab.research.google.com/notebooks/data_table.ipynb>data table notebook</a>'\n",
              "          + ' to learn more about interactive tables.';\n",
              "        element.innerHTML = '';\n",
              "        dataTable['output_type'] = 'display_data';\n",
              "        await google.colab.output.renderOutput(dataTable, element);\n",
              "        const docLink = document.createElement('div');\n",
              "        docLink.innerHTML = docLinkHtml;\n",
              "        element.appendChild(docLink);\n",
              "      }\n",
              "    </script>\n",
              "  </div>\n",
              "\n",
              "\n",
              "<div id=\"df-cb2da3b8-0759-4e69-af0e-c9bea37f2c4f\">\n",
              "  <button class=\"colab-df-quickchart\" onclick=\"quickchart('df-cb2da3b8-0759-4e69-af0e-c9bea37f2c4f')\"\n",
              "            title=\"Suggest charts.\"\n",
              "            style=\"display:none;\">\n",
              "\n",
              "<svg xmlns=\"http://www.w3.org/2000/svg\" height=\"24px\"viewBox=\"0 0 24 24\"\n",
              "     width=\"24px\">\n",
              "    <g>\n",
              "        <path d=\"M19 3H5c-1.1 0-2 .9-2 2v14c0 1.1.9 2 2 2h14c1.1 0 2-.9 2-2V5c0-1.1-.9-2-2-2zM9 17H7v-7h2v7zm4 0h-2V7h2v10zm4 0h-2v-4h2v4z\"/>\n",
              "    </g>\n",
              "</svg>\n",
              "  </button>\n",
              "\n",
              "<style>\n",
              "  .colab-df-quickchart {\n",
              "      --bg-color: #E8F0FE;\n",
              "      --fill-color: #1967D2;\n",
              "      --hover-bg-color: #E2EBFA;\n",
              "      --hover-fill-color: #174EA6;\n",
              "      --disabled-fill-color: #AAA;\n",
              "      --disabled-bg-color: #DDD;\n",
              "  }\n",
              "\n",
              "  [theme=dark] .colab-df-quickchart {\n",
              "      --bg-color: #3B4455;\n",
              "      --fill-color: #D2E3FC;\n",
              "      --hover-bg-color: #434B5C;\n",
              "      --hover-fill-color: #FFFFFF;\n",
              "      --disabled-bg-color: #3B4455;\n",
              "      --disabled-fill-color: #666;\n",
              "  }\n",
              "\n",
              "  .colab-df-quickchart {\n",
              "    background-color: var(--bg-color);\n",
              "    border: none;\n",
              "    border-radius: 50%;\n",
              "    cursor: pointer;\n",
              "    display: none;\n",
              "    fill: var(--fill-color);\n",
              "    height: 32px;\n",
              "    padding: 0;\n",
              "    width: 32px;\n",
              "  }\n",
              "\n",
              "  .colab-df-quickchart:hover {\n",
              "    background-color: var(--hover-bg-color);\n",
              "    box-shadow: 0 1px 2px rgba(60, 64, 67, 0.3), 0 1px 3px 1px rgba(60, 64, 67, 0.15);\n",
              "    fill: var(--button-hover-fill-color);\n",
              "  }\n",
              "\n",
              "  .colab-df-quickchart-complete:disabled,\n",
              "  .colab-df-quickchart-complete:disabled:hover {\n",
              "    background-color: var(--disabled-bg-color);\n",
              "    fill: var(--disabled-fill-color);\n",
              "    box-shadow: none;\n",
              "  }\n",
              "\n",
              "  .colab-df-spinner {\n",
              "    border: 2px solid var(--fill-color);\n",
              "    border-color: transparent;\n",
              "    border-bottom-color: var(--fill-color);\n",
              "    animation:\n",
              "      spin 1s steps(1) infinite;\n",
              "  }\n",
              "\n",
              "  @keyframes spin {\n",
              "    0% {\n",
              "      border-color: transparent;\n",
              "      border-bottom-color: var(--fill-color);\n",
              "      border-left-color: var(--fill-color);\n",
              "    }\n",
              "    20% {\n",
              "      border-color: transparent;\n",
              "      border-left-color: var(--fill-color);\n",
              "      border-top-color: var(--fill-color);\n",
              "    }\n",
              "    30% {\n",
              "      border-color: transparent;\n",
              "      border-left-color: var(--fill-color);\n",
              "      border-top-color: var(--fill-color);\n",
              "      border-right-color: var(--fill-color);\n",
              "    }\n",
              "    40% {\n",
              "      border-color: transparent;\n",
              "      border-right-color: var(--fill-color);\n",
              "      border-top-color: var(--fill-color);\n",
              "    }\n",
              "    60% {\n",
              "      border-color: transparent;\n",
              "      border-right-color: var(--fill-color);\n",
              "    }\n",
              "    80% {\n",
              "      border-color: transparent;\n",
              "      border-right-color: var(--fill-color);\n",
              "      border-bottom-color: var(--fill-color);\n",
              "    }\n",
              "    90% {\n",
              "      border-color: transparent;\n",
              "      border-bottom-color: var(--fill-color);\n",
              "    }\n",
              "  }\n",
              "</style>\n",
              "\n",
              "  <script>\n",
              "    async function quickchart(key) {\n",
              "      const quickchartButtonEl =\n",
              "        document.querySelector('#' + key + ' button');\n",
              "      quickchartButtonEl.disabled = true;  // To prevent multiple clicks.\n",
              "      quickchartButtonEl.classList.add('colab-df-spinner');\n",
              "      try {\n",
              "        const charts = await google.colab.kernel.invokeFunction(\n",
              "            'suggestCharts', [key], {});\n",
              "      } catch (error) {\n",
              "        console.error('Error during call to suggestCharts:', error);\n",
              "      }\n",
              "      quickchartButtonEl.classList.remove('colab-df-spinner');\n",
              "      quickchartButtonEl.classList.add('colab-df-quickchart-complete');\n",
              "    }\n",
              "    (() => {\n",
              "      let quickchartButtonEl =\n",
              "        document.querySelector('#df-cb2da3b8-0759-4e69-af0e-c9bea37f2c4f button');\n",
              "      quickchartButtonEl.style.display =\n",
              "        google.colab.kernel.accessAllowed ? 'block' : 'none';\n",
              "    })();\n",
              "  </script>\n",
              "</div>\n",
              "    </div>\n",
              "  </div>\n"
            ]
          },
          "metadata": {},
          "execution_count": 6
        }
      ]
    },
    {
      "cell_type": "code",
      "source": [
        "# Modify the `DatetimeIndex` for `df` to the correct timezone \"Asia/Shanghai\".\n",
        "df.index = df.index.tz_localize(\"UTC\").tz_convert(\"Africa/Dar_es_Salaam\")\n",
        "df.head()"
      ],
      "metadata": {
        "id": "rhvMUsL9Og8x",
        "colab": {
          "base_uri": "https://localhost:8080/",
          "height": 324
        },
        "outputId": "3225313a-385a-402d-bd27-2c2635077208"
      },
      "execution_count": null,
      "outputs": [
        {
          "output_type": "execute_result",
          "data": {
            "text/plain": [
              "                                    P2\n",
              "timestamp                             \n",
              "2018-01-01 03:05:03.874000+03:00  9.70\n",
              "2018-01-01 05:09:53.933000+03:00  8.97\n",
              "2018-01-01 04:12:29.094000+03:00  9.37\n",
              "2018-01-01 05:29:51.379000+03:00  9.50\n",
              "2018-01-01 05:57:24.358000+03:00  7.87"
            ],
            "text/html": [
              "\n",
              "  <div id=\"df-a6c7adb8-650a-4c63-aca6-0edba5e275aa\" class=\"colab-df-container\">\n",
              "    <div>\n",
              "<style scoped>\n",
              "    .dataframe tbody tr th:only-of-type {\n",
              "        vertical-align: middle;\n",
              "    }\n",
              "\n",
              "    .dataframe tbody tr th {\n",
              "        vertical-align: top;\n",
              "    }\n",
              "\n",
              "    .dataframe thead th {\n",
              "        text-align: right;\n",
              "    }\n",
              "</style>\n",
              "<table border=\"1\" class=\"dataframe\">\n",
              "  <thead>\n",
              "    <tr style=\"text-align: right;\">\n",
              "      <th></th>\n",
              "      <th>P2</th>\n",
              "    </tr>\n",
              "    <tr>\n",
              "      <th>timestamp</th>\n",
              "      <th></th>\n",
              "    </tr>\n",
              "  </thead>\n",
              "  <tbody>\n",
              "    <tr>\n",
              "      <th>2018-01-01 03:05:03.874000+03:00</th>\n",
              "      <td>9.70</td>\n",
              "    </tr>\n",
              "    <tr>\n",
              "      <th>2018-01-01 05:09:53.933000+03:00</th>\n",
              "      <td>8.97</td>\n",
              "    </tr>\n",
              "    <tr>\n",
              "      <th>2018-01-01 04:12:29.094000+03:00</th>\n",
              "      <td>9.37</td>\n",
              "    </tr>\n",
              "    <tr>\n",
              "      <th>2018-01-01 05:29:51.379000+03:00</th>\n",
              "      <td>9.50</td>\n",
              "    </tr>\n",
              "    <tr>\n",
              "      <th>2018-01-01 05:57:24.358000+03:00</th>\n",
              "      <td>7.87</td>\n",
              "    </tr>\n",
              "  </tbody>\n",
              "</table>\n",
              "</div>\n",
              "    <div class=\"colab-df-buttons\">\n",
              "\n",
              "  <div class=\"colab-df-container\">\n",
              "    <button class=\"colab-df-convert\" onclick=\"convertToInteractive('df-a6c7adb8-650a-4c63-aca6-0edba5e275aa')\"\n",
              "            title=\"Convert this dataframe to an interactive table.\"\n",
              "            style=\"display:none;\">\n",
              "\n",
              "  <svg xmlns=\"http://www.w3.org/2000/svg\" height=\"24px\" viewBox=\"0 -960 960 960\">\n",
              "    <path d=\"M120-120v-720h720v720H120Zm60-500h600v-160H180v160Zm220 220h160v-160H400v160Zm0 220h160v-160H400v160ZM180-400h160v-160H180v160Zm440 0h160v-160H620v160ZM180-180h160v-160H180v160Zm440 0h160v-160H620v160Z\"/>\n",
              "  </svg>\n",
              "    </button>\n",
              "\n",
              "  <style>\n",
              "    .colab-df-container {\n",
              "      display:flex;\n",
              "      gap: 12px;\n",
              "    }\n",
              "\n",
              "    .colab-df-convert {\n",
              "      background-color: #E8F0FE;\n",
              "      border: none;\n",
              "      border-radius: 50%;\n",
              "      cursor: pointer;\n",
              "      display: none;\n",
              "      fill: #1967D2;\n",
              "      height: 32px;\n",
              "      padding: 0 0 0 0;\n",
              "      width: 32px;\n",
              "    }\n",
              "\n",
              "    .colab-df-convert:hover {\n",
              "      background-color: #E2EBFA;\n",
              "      box-shadow: 0px 1px 2px rgba(60, 64, 67, 0.3), 0px 1px 3px 1px rgba(60, 64, 67, 0.15);\n",
              "      fill: #174EA6;\n",
              "    }\n",
              "\n",
              "    .colab-df-buttons div {\n",
              "      margin-bottom: 4px;\n",
              "    }\n",
              "\n",
              "    [theme=dark] .colab-df-convert {\n",
              "      background-color: #3B4455;\n",
              "      fill: #D2E3FC;\n",
              "    }\n",
              "\n",
              "    [theme=dark] .colab-df-convert:hover {\n",
              "      background-color: #434B5C;\n",
              "      box-shadow: 0px 1px 3px 1px rgba(0, 0, 0, 0.15);\n",
              "      filter: drop-shadow(0px 1px 2px rgba(0, 0, 0, 0.3));\n",
              "      fill: #FFFFFF;\n",
              "    }\n",
              "  </style>\n",
              "\n",
              "    <script>\n",
              "      const buttonEl =\n",
              "        document.querySelector('#df-a6c7adb8-650a-4c63-aca6-0edba5e275aa button.colab-df-convert');\n",
              "      buttonEl.style.display =\n",
              "        google.colab.kernel.accessAllowed ? 'block' : 'none';\n",
              "\n",
              "      async function convertToInteractive(key) {\n",
              "        const element = document.querySelector('#df-a6c7adb8-650a-4c63-aca6-0edba5e275aa');\n",
              "        const dataTable =\n",
              "          await google.colab.kernel.invokeFunction('convertToInteractive',\n",
              "                                                    [key], {});\n",
              "        if (!dataTable) return;\n",
              "\n",
              "        const docLinkHtml = 'Like what you see? Visit the ' +\n",
              "          '<a target=\"_blank\" href=https://colab.research.google.com/notebooks/data_table.ipynb>data table notebook</a>'\n",
              "          + ' to learn more about interactive tables.';\n",
              "        element.innerHTML = '';\n",
              "        dataTable['output_type'] = 'display_data';\n",
              "        await google.colab.output.renderOutput(dataTable, element);\n",
              "        const docLink = document.createElement('div');\n",
              "        docLink.innerHTML = docLinkHtml;\n",
              "        element.appendChild(docLink);\n",
              "      }\n",
              "    </script>\n",
              "  </div>\n",
              "\n",
              "\n",
              "<div id=\"df-1bac8997-830e-49d1-a924-1e84738756fd\">\n",
              "  <button class=\"colab-df-quickchart\" onclick=\"quickchart('df-1bac8997-830e-49d1-a924-1e84738756fd')\"\n",
              "            title=\"Suggest charts.\"\n",
              "            style=\"display:none;\">\n",
              "\n",
              "<svg xmlns=\"http://www.w3.org/2000/svg\" height=\"24px\"viewBox=\"0 0 24 24\"\n",
              "     width=\"24px\">\n",
              "    <g>\n",
              "        <path d=\"M19 3H5c-1.1 0-2 .9-2 2v14c0 1.1.9 2 2 2h14c1.1 0 2-.9 2-2V5c0-1.1-.9-2-2-2zM9 17H7v-7h2v7zm4 0h-2V7h2v10zm4 0h-2v-4h2v4z\"/>\n",
              "    </g>\n",
              "</svg>\n",
              "  </button>\n",
              "\n",
              "<style>\n",
              "  .colab-df-quickchart {\n",
              "      --bg-color: #E8F0FE;\n",
              "      --fill-color: #1967D2;\n",
              "      --hover-bg-color: #E2EBFA;\n",
              "      --hover-fill-color: #174EA6;\n",
              "      --disabled-fill-color: #AAA;\n",
              "      --disabled-bg-color: #DDD;\n",
              "  }\n",
              "\n",
              "  [theme=dark] .colab-df-quickchart {\n",
              "      --bg-color: #3B4455;\n",
              "      --fill-color: #D2E3FC;\n",
              "      --hover-bg-color: #434B5C;\n",
              "      --hover-fill-color: #FFFFFF;\n",
              "      --disabled-bg-color: #3B4455;\n",
              "      --disabled-fill-color: #666;\n",
              "  }\n",
              "\n",
              "  .colab-df-quickchart {\n",
              "    background-color: var(--bg-color);\n",
              "    border: none;\n",
              "    border-radius: 50%;\n",
              "    cursor: pointer;\n",
              "    display: none;\n",
              "    fill: var(--fill-color);\n",
              "    height: 32px;\n",
              "    padding: 0;\n",
              "    width: 32px;\n",
              "  }\n",
              "\n",
              "  .colab-df-quickchart:hover {\n",
              "    background-color: var(--hover-bg-color);\n",
              "    box-shadow: 0 1px 2px rgba(60, 64, 67, 0.3), 0 1px 3px 1px rgba(60, 64, 67, 0.15);\n",
              "    fill: var(--button-hover-fill-color);\n",
              "  }\n",
              "\n",
              "  .colab-df-quickchart-complete:disabled,\n",
              "  .colab-df-quickchart-complete:disabled:hover {\n",
              "    background-color: var(--disabled-bg-color);\n",
              "    fill: var(--disabled-fill-color);\n",
              "    box-shadow: none;\n",
              "  }\n",
              "\n",
              "  .colab-df-spinner {\n",
              "    border: 2px solid var(--fill-color);\n",
              "    border-color: transparent;\n",
              "    border-bottom-color: var(--fill-color);\n",
              "    animation:\n",
              "      spin 1s steps(1) infinite;\n",
              "  }\n",
              "\n",
              "  @keyframes spin {\n",
              "    0% {\n",
              "      border-color: transparent;\n",
              "      border-bottom-color: var(--fill-color);\n",
              "      border-left-color: var(--fill-color);\n",
              "    }\n",
              "    20% {\n",
              "      border-color: transparent;\n",
              "      border-left-color: var(--fill-color);\n",
              "      border-top-color: var(--fill-color);\n",
              "    }\n",
              "    30% {\n",
              "      border-color: transparent;\n",
              "      border-left-color: var(--fill-color);\n",
              "      border-top-color: var(--fill-color);\n",
              "      border-right-color: var(--fill-color);\n",
              "    }\n",
              "    40% {\n",
              "      border-color: transparent;\n",
              "      border-right-color: var(--fill-color);\n",
              "      border-top-color: var(--fill-color);\n",
              "    }\n",
              "    60% {\n",
              "      border-color: transparent;\n",
              "      border-right-color: var(--fill-color);\n",
              "    }\n",
              "    80% {\n",
              "      border-color: transparent;\n",
              "      border-right-color: var(--fill-color);\n",
              "      border-bottom-color: var(--fill-color);\n",
              "    }\n",
              "    90% {\n",
              "      border-color: transparent;\n",
              "      border-bottom-color: var(--fill-color);\n",
              "    }\n",
              "  }\n",
              "</style>\n",
              "\n",
              "  <script>\n",
              "    async function quickchart(key) {\n",
              "      const quickchartButtonEl =\n",
              "        document.querySelector('#' + key + ' button');\n",
              "      quickchartButtonEl.disabled = true;  // To prevent multiple clicks.\n",
              "      quickchartButtonEl.classList.add('colab-df-spinner');\n",
              "      try {\n",
              "        const charts = await google.colab.kernel.invokeFunction(\n",
              "            'suggestCharts', [key], {});\n",
              "      } catch (error) {\n",
              "        console.error('Error during call to suggestCharts:', error);\n",
              "      }\n",
              "      quickchartButtonEl.classList.remove('colab-df-spinner');\n",
              "      quickchartButtonEl.classList.add('colab-df-quickchart-complete');\n",
              "    }\n",
              "    (() => {\n",
              "      let quickchartButtonEl =\n",
              "        document.querySelector('#df-1bac8997-830e-49d1-a924-1e84738756fd button');\n",
              "      quickchartButtonEl.style.display =\n",
              "        google.colab.kernel.accessAllowed ? 'block' : 'none';\n",
              "    })();\n",
              "  </script>\n",
              "</div>\n",
              "    </div>\n",
              "  </div>\n"
            ]
          },
          "metadata": {},
          "execution_count": 7
        }
      ]
    },
    {
      "cell_type": "markdown",
      "source": [
        "## 1.2 Explore"
      ],
      "metadata": {
        "id": "omN2Xc0jOhpI"
      }
    },
    {
      "cell_type": "code",
      "source": [
        "# Distribution of the \"PM2\" readings in df.\n",
        "fig, ax = plt.subplots(figsize=(15, 6))\n",
        "df[\"P2\"].plot(kind=\"box\", vert=False, title=\"Distribution of PM2.5 Readings\",ax=ax);"
      ],
      "metadata": {
        "id": "8Fh2VulzO2B6",
        "colab": {
          "base_uri": "https://localhost:8080/",
          "height": 150
        },
        "outputId": "9fcf3451-4303-47fe-ee9b-8e925158ee04"
      },
      "execution_count": null,
      "outputs": [
        {
          "output_type": "display_data",
          "data": {
            "text/plain": [
              "<Figure size 1500x600 with 1 Axes>"
            ],
            "image/png": "[encoded data removed]"
          },
          "metadata": {}
        }
      ]
    },
    {
      "cell_type": "code",
      "source": [
        "# Drop the outliers\n",
        "df= df[df[\"P2\"]<100]"
      ],
      "metadata": {
        "id": "zQ_uFvlGO_Xx"
      },
      "execution_count": null,
      "outputs": []
    },
    {
      "cell_type": "code",
      "source": [
        "# Time series plot of the `PM2` readings in `df`\n",
        "fig, ax = plt.subplots(figsize=(15, 6))\n",
        "df[\"P2\"].plot(xlabel=\"time\", ylabel=\"PM2.5\", title=\"PM2.5 Time Series\", ax=ax);"
      ],
      "metadata": {
        "id": "JnhPwiy-PMbc",
        "colab": {
          "base_uri": "https://localhost:8080/",
          "height": 148
        },
        "outputId": "466474d3-64db-481b-8ac0-a1b81482a421"
      },
      "execution_count": null,
      "outputs": [
        {
          "output_type": "display_data",
          "data": {
            "text/plain": [
              "<Figure size 1500x600 with 1 Axes>"
            ],
            "image/png": "[encoded data removed]"
          },
          "metadata": {}
        }
      ]
    },
    {
      "cell_type": "code",
      "source": [
        "# Resample df to provide the mean `PM2` reading for each hour\n",
        "df= df[\"P2\"]. resample(\"1H\").mean().fillna(method=\"ffill\").to_frame()"
      ],
      "metadata": {
        "id": "7Y3HknlVPWz0"
      },
      "execution_count": null,
      "outputs": []
    },
    {
      "cell_type": "code",
      "source": [
        "# Rolling average of the `PM2` readings in `df`\n",
        "# Window size of 168, the number of hours in a week\n",
        "fig, ax = plt.subplots(figsize=(20, 6))\n",
        "df[\"P2\"].rolling(168).mean().plot(ax= ax, ylabel=\"PM2.5\", title=\" Weekly Rolling Average\");"
      ],
      "metadata": {
        "id": "BFay7GEfPesU",
        "colab": {
          "base_uri": "https://localhost:8080/",
          "height": 129
        },
        "outputId": "bed74beb-4a3b-4421-94d7-e2381278d133"
      },
      "execution_count": null,
      "outputs": [
        {
          "output_type": "display_data",
          "data": {
            "text/plain": [
              "<Figure size 2000x600 with 1 Axes>"
            ],
            "image/png": "[encoded data removed]"
          },
          "metadata": {}
        }
      ]
    },
    {
      "cell_type": "code",
      "source": [
        "# Create a column called `PM2.L1` that contains the mean \"PM2\" reading from the previous hou\n",
        "df[\"P2.L1\"] = df[\"P2\"].shift(1)\n",
        "df.dropna(inplace = True)"
      ],
      "metadata": {
        "id": "IP4hJRqMPtKH"
      },
      "execution_count": null,
      "outputs": []
    },
    {
      "cell_type": "markdown",
      "source": [
        "The final version of **wrangle** function"
      ],
      "metadata": {
        "id": "FYTmI8ELQI0L"
      }
    },
    {
      "cell_type": "code",
      "source": [
        "def wrangle(collection):\n",
        "     results = collection.find(\n",
        "         {\"metadata.station\": \"Aotizhongxin\", \"metadata.measurement\": \"PM2.5\"},\n",
        "         projection={\"PM2\": 1, \"timestamp\": 1, \"_id\": 0},\n",
        ")\n",
        "\n",
        "     df = pd.DataFrame(results).set_index(df[\"timestamp\"])\n",
        "\n",
        "     df.index=df.index.tz_localize(\"UTC\").tz_convert(\"Asia/Shanghai\")\n",
        "\n",
        "     df = df[df[\"PM2\"]<500]\n",
        "\n",
        "     df = df[\"PM2\"]. resample(\"1H\").mean().fillna(method=\"ffill\").to_frame()\n",
        "\n",
        "     df[\"PM2.L1\"] = df[\"PM2\"].shift(1)\n",
        "\n",
        "     df.dropna(inplace = True)\n",
        "\n",
        "     return df"
      ],
      "metadata": {
        "id": "reVJJjBxP6b3"
      },
      "execution_count": null,
      "outputs": []
    },
    {
      "cell_type": "code",
      "source": [
        "# Correlation matrix\n",
        "df.corr()"
      ],
      "metadata": {
        "id": "QnKGJeKlQXeg",
        "colab": {
          "base_uri": "https://localhost:8080/",
          "height": 112
        },
        "outputId": "4b8fa6b9-e5d6-42c6-c7aa-e3dbb9cebfc9"
      },
      "execution_count": null,
      "outputs": [
        {
          "output_type": "execute_result",
          "data": {
            "text/plain": [
              "             P2     P2.L1\n",
              "P2     1.000000  0.927715\n",
              "P2.L1  0.927715  1.000000"
            ],
            "text/html": [
              "\n",
              "  <div id=\"df-18854858-0360-4312-a682-9c746bbf7682\" class=\"colab-df-container\">\n",
              "    <div>\n",
              "<style scoped>\n",
              "    .dataframe tbody tr th:only-of-type {\n",
              "        vertical-align: middle;\n",
              "    }\n",
              "\n",
              "    .dataframe tbody tr th {\n",
              "        vertical-align: top;\n",
              "    }\n",
              "\n",
              "    .dataframe thead th {\n",
              "        text-align: right;\n",
              "    }\n",
              "</style>\n",
              "<table border=\"1\" class=\"dataframe\">\n",
              "  <thead>\n",
              "    <tr style=\"text-align: right;\">\n",
              "      <th></th>\n",
              "      <th>P2</th>\n",
              "      <th>P2.L1</th>\n",
              "    </tr>\n",
              "  </thead>\n",
              "  <tbody>\n",
              "    <tr>\n",
              "      <th>P2</th>\n",
              "      <td>1.000000</td>\n",
              "      <td>0.927715</td>\n",
              "    </tr>\n",
              "    <tr>\n",
              "      <th>P2.L1</th>\n",
              "      <td>0.927715</td>\n",
              "      <td>1.000000</td>\n",
              "    </tr>\n",
              "  </tbody>\n",
              "</table>\n",
              "</div>\n",
              "    <div class=\"colab-df-buttons\">\n",
              "\n",
              "  <div class=\"colab-df-container\">\n",
              "    <button class=\"colab-df-convert\" onclick=\"convertToInteractive('df-18854858-0360-4312-a682-9c746bbf7682')\"\n",
              "            title=\"Convert this dataframe to an interactive table.\"\n",
              "            style=\"display:none;\">\n",
              "\n",
              "  <svg xmlns=\"http://www.w3.org/2000/svg\" height=\"24px\" viewBox=\"0 -960 960 960\">\n",
              "    <path d=\"M120-120v-720h720v720H120Zm60-500h600v-160H180v160Zm220 220h160v-160H400v160Zm0 220h160v-160H400v160ZM180-400h160v-160H180v160Zm440 0h160v-160H620v160ZM180-180h160v-160H180v160Zm440 0h160v-160H620v160Z\"/>\n",
              "  </svg>\n",
              "    </button>\n",
              "\n",
              "  <style>\n",
              "    .colab-df-container {\n",
              "      display:flex;\n",
              "      gap: 12px;\n",
              "    }\n",
              "\n",
              "    .colab-df-convert {\n",
              "      background-color: #E8F0FE;\n",
              "      border: none;\n",
              "      border-radius: 50%;\n",
              "      cursor: pointer;\n",
              "      display: none;\n",
              "      fill: #1967D2;\n",
              "      height: 32px;\n",
              "      padding: 0 0 0 0;\n",
              "      width: 32px;\n",
              "    }\n",
              "\n",
              "    .colab-df-convert:hover {\n",
              "      background-color: #E2EBFA;\n",
              "      box-shadow: 0px 1px 2px rgba(60, 64, 67, 0.3), 0px 1px 3px 1px rgba(60, 64, 67, 0.15);\n",
              "      fill: #174EA6;\n",
              "    }\n",
              "\n",
              "    .colab-df-buttons div {\n",
              "      margin-bottom: 4px;\n",
              "    }\n",
              "\n",
              "    [theme=dark] .colab-df-convert {\n",
              "      background-color: #3B4455;\n",
              "      fill: #D2E3FC;\n",
              "    }\n",
              "\n",
              "    [theme=dark] .colab-df-convert:hover {\n",
              "      background-color: #434B5C;\n",
              "      box-shadow: 0px 1px 3px 1px rgba(0, 0, 0, 0.15);\n",
              "      filter: drop-shadow(0px 1px 2px rgba(0, 0, 0, 0.3));\n",
              "      fill: #FFFFFF;\n",
              "    }\n",
              "  </style>\n",
              "\n",
              "    <script>\n",
              "      const buttonEl =\n",
              "        document.querySelector('#df-18854858-0360-4312-a682-9c746bbf7682 button.colab-df-convert');\n",
              "      buttonEl.style.display =\n",
              "        google.colab.kernel.accessAllowed ? 'block' : 'none';\n",
              "\n",
              "      async function convertToInteractive(key) {\n",
              "        const element = document.querySelector('#df-18854858-0360-4312-a682-9c746bbf7682');\n",
              "        const dataTable =\n",
              "          await google.colab.kernel.invokeFunction('convertToInteractive',\n",
              "                                                    [key], {});\n",
              "        if (!dataTable) return;\n",
              "\n",
              "        const docLinkHtml = 'Like what you see? Visit the ' +\n",
              "          '<a target=\"_blank\" href=https://colab.research.google.com/notebooks/data_table.ipynb>data table notebook</a>'\n",
              "          + ' to learn more about interactive tables.';\n",
              "        element.innerHTML = '';\n",
              "        dataTable['output_type'] = 'display_data';\n",
              "        await google.colab.output.renderOutput(dataTable, element);\n",
              "        const docLink = document.createElement('div');\n",
              "        docLink.innerHTML = docLinkHtml;\n",
              "        element.appendChild(docLink);\n",
              "      }\n",
              "    </script>\n",
              "  </div>\n",
              "\n",
              "\n",
              "<div id=\"df-8c5a8658-eb49-446e-ac52-bf40f6f0b180\">\n",
              "  <button class=\"colab-df-quickchart\" onclick=\"quickchart('df-8c5a8658-eb49-446e-ac52-bf40f6f0b180')\"\n",
              "            title=\"Suggest charts.\"\n",
              "            style=\"display:none;\">\n",
              "\n",
              "<svg xmlns=\"http://www.w3.org/2000/svg\" height=\"24px\"viewBox=\"0 0 24 24\"\n",
              "     width=\"24px\">\n",
              "    <g>\n",
              "        <path d=\"M19 3H5c-1.1 0-2 .9-2 2v14c0 1.1.9 2 2 2h14c1.1 0 2-.9 2-2V5c0-1.1-.9-2-2-2zM9 17H7v-7h2v7zm4 0h-2V7h2v10zm4 0h-2v-4h2v4z\"/>\n",
              "    </g>\n",
              "</svg>\n",
              "  </button>\n",
              "\n",
              "<style>\n",
              "  .colab-df-quickchart {\n",
              "      --bg-color: #E8F0FE;\n",
              "      --fill-color: #1967D2;\n",
              "      --hover-bg-color: #E2EBFA;\n",
              "      --hover-fill-color: #174EA6;\n",
              "      --disabled-fill-color: #AAA;\n",
              "      --disabled-bg-color: #DDD;\n",
              "  }\n",
              "\n",
              "  [theme=dark] .colab-df-quickchart {\n",
              "      --bg-color: #3B4455;\n",
              "      --fill-color: #D2E3FC;\n",
              "      --hover-bg-color: #434B5C;\n",
              "      --hover-fill-color: #FFFFFF;\n",
              "      --disabled-bg-color: #3B4455;\n",
              "      --disabled-fill-color: #666;\n",
              "  }\n",
              "\n",
              "  .colab-df-quickchart {\n",
              "    background-color: var(--bg-color);\n",
              "    border: none;\n",
              "    border-radius: 50%;\n",
              "    cursor: pointer;\n",
              "    display: none;\n",
              "    fill: var(--fill-color);\n",
              "    height: 32px;\n",
              "    padding: 0;\n",
              "    width: 32px;\n",
              "  }\n",
              "\n",
              "  .colab-df-quickchart:hover {\n",
              "    background-color: var(--hover-bg-color);\n",
              "    box-shadow: 0 1px 2px rgba(60, 64, 67, 0.3), 0 1px 3px 1px rgba(60, 64, 67, 0.15);\n",
              "    fill: var(--button-hover-fill-color);\n",
              "  }\n",
              "\n",
              "  .colab-df-quickchart-complete:disabled,\n",
              "  .colab-df-quickchart-complete:disabled:hover {\n",
              "    background-color: var(--disabled-bg-color);\n",
              "    fill: var(--disabled-fill-color);\n",
              "    box-shadow: none;\n",
              "  }\n",
              "\n",
              "  .colab-df-spinner {\n",
              "    border: 2px solid var(--fill-color);\n",
              "    border-color: transparent;\n",
              "    border-bottom-color: var(--fill-color);\n",
              "    animation:\n",
              "      spin 1s steps(1) infinite;\n",
              "  }\n",
              "\n",
              "  @keyframes spin {\n",
              "    0% {\n",
              "      border-color: transparent;\n",
              "      border-bottom-color: var(--fill-color);\n",
              "      border-left-color: var(--fill-color);\n",
              "    }\n",
              "    20% {\n",
              "      border-color: transparent;\n",
              "      border-left-color: var(--fill-color);\n",
              "      border-top-color: var(--fill-color);\n",
              "    }\n",
              "    30% {\n",
              "      border-color: transparent;\n",
              "      border-left-color: var(--fill-color);\n",
              "      border-top-color: var(--fill-color);\n",
              "      border-right-color: var(--fill-color);\n",
              "    }\n",
              "    40% {\n",
              "      border-color: transparent;\n",
              "      border-right-color: var(--fill-color);\n",
              "      border-top-color: var(--fill-color);\n",
              "    }\n",
              "    60% {\n",
              "      border-color: transparent;\n",
              "      border-right-color: var(--fill-color);\n",
              "    }\n",
              "    80% {\n",
              "      border-color: transparent;\n",
              "      border-right-color: var(--fill-color);\n",
              "      border-bottom-color: var(--fill-color);\n",
              "    }\n",
              "    90% {\n",
              "      border-color: transparent;\n",
              "      border-bottom-color: var(--fill-color);\n",
              "    }\n",
              "  }\n",
              "</style>\n",
              "\n",
              "  <script>\n",
              "    async function quickchart(key) {\n",
              "      const quickchartButtonEl =\n",
              "        document.querySelector('#' + key + ' button');\n",
              "      quickchartButtonEl.disabled = true;  // To prevent multiple clicks.\n",
              "      quickchartButtonEl.classList.add('colab-df-spinner');\n",
              "      try {\n",
              "        const charts = await google.colab.kernel.invokeFunction(\n",
              "            'suggestCharts', [key], {});\n",
              "      } catch (error) {\n",
              "        console.error('Error during call to suggestCharts:', error);\n",
              "      }\n",
              "      quickchartButtonEl.classList.remove('colab-df-spinner');\n",
              "      quickchartButtonEl.classList.add('colab-df-quickchart-complete');\n",
              "    }\n",
              "    (() => {\n",
              "      let quickchartButtonEl =\n",
              "        document.querySelector('#df-8c5a8658-eb49-446e-ac52-bf40f6f0b180 button');\n",
              "      quickchartButtonEl.style.display =\n",
              "        google.colab.kernel.accessAllowed ? 'block' : 'none';\n",
              "    })();\n",
              "  </script>\n",
              "</div>\n",
              "    </div>\n",
              "  </div>\n"
            ]
          },
          "metadata": {},
          "execution_count": 14
        }
      ]
    },
    {
      "cell_type": "code",
      "source": [
        "fig, ax = plt.subplots(figsize=(6, 6))\n",
        "ax.scatter(x=df[\"P2.L1\"], y=df[\"P2\"])\n",
        "ax.plot([0,100],[0,100],linestyle=\"--\", color=\"red\")\n",
        "plt.xlabel(\"PM2.L1\")\n",
        "plt.ylabel(\"PM2\")\n",
        "plt.title(\"PM2.5 Autocorrelation\");"
      ],
      "metadata": {
        "id": "Y4KjEHScQewi",
        "colab": {
          "base_uri": "https://localhost:8080/",
          "height": 325
        },
        "outputId": "086c25e6-c161-41a7-ed23-0ff668010a0d"
      },
      "execution_count": null,
      "outputs": [
        {
          "output_type": "display_data",
          "data": {
            "text/plain": [
              "<Figure size 600x600 with 1 Axes>"
            ],
            "image/png": "[encoded data removed]"
          },
          "metadata": {}
        }
      ]
    },
    {
      "cell_type": "markdown",
      "source": [
        "## 1.3 Split"
      ],
      "metadata": {
        "id": "x-3B9IqsQmG9"
      }
    },
    {
      "cell_type": "code",
      "source": [
        "# Split the DataFrame `df` into the feature matrix `X` and the target vector `y`\n",
        "target = \"P2\"\n",
        "y = df[target]\n",
        "X = df.drop(columns= target)"
      ],
      "metadata": {
        "id": "ZU9G8GRRQqiB"
      },
      "execution_count": null,
      "outputs": []
    },
    {
      "cell_type": "code",
      "source": [
        "# Split `X` and `y` into training and test sets\n",
        "cutoff = int(len(X) * 0.8)\n",
        "X_train, y_train = X.iloc[:cutoff], y.iloc[:cutoff]\n",
        "X_test, y_test = X.iloc[cutoff:], y.iloc[cutoff:]"
      ],
      "metadata": {
        "id": "Rkv5c7Y9QxSI"
      },
      "execution_count": null,
      "outputs": []
    },
    {
      "cell_type": "markdown",
      "source": [
        "# 2. Build Model"
      ],
      "metadata": {
        "id": "pKzPZ1XyQ6HH"
      }
    },
    {
      "cell_type": "markdown",
      "source": [
        "## 2.1 Baseline"
      ],
      "metadata": {
        "id": "DzUE4PTmQ8hI"
      }
    },
    {
      "cell_type": "code",
      "source": [
        "# The baseline mean absolute error\n",
        "y_pred_baseline = [y_train.mean()] * len(y_train)\n",
        "mae_baseline = mean_absolute_error(y_train, y_pred_baseline)\n",
        "print(\"Mean PM2 Reading:\", round(y_train.mean(), 2))\n",
        "print(\"Baseline MAE:\", round(mae_baseline, 2))"
      ],
      "metadata": {
        "id": "ThvKVPO4RBJp",
        "colab": {
          "base_uri": "https://localhost:8080/"
        },
        "outputId": "c1a76e97-52cc-444c-b26c-7eae8fec56bf"
      },
      "execution_count": null,
      "outputs": [
        {
          "output_type": "stream",
          "name": "stdout",
          "text": [
            "Mean PM2 Reading: 9.01\n",
            "Baseline MAE: 3.96\n"
          ]
        }
      ]
    },
    {
      "cell_type": "markdown",
      "source": [
        "## 2.2 Iterate"
      ],
      "metadata": {
        "id": "HjJkfTAfRIX0"
      }
    },
    {
      "cell_type": "code",
      "source": [
        "# Instantiate model\n",
        "model = LinearRegression()\n",
        "# Fit the model\n",
        "model.fit(X_train, y_train)"
      ],
      "metadata": {
        "id": "y4mbX0NZRORJ",
        "colab": {
          "base_uri": "https://localhost:8080/",
          "height": 74
        },
        "outputId": "47af71fb-d0c2-44d4-c89b-6d0fd3b72ef6"
      },
      "execution_count": null,
      "outputs": [
        {
          "output_type": "execute_result",
          "data": {
            "text/plain": [
              "LinearRegression()"
            ],
            "text/html": [
              "<style>#sk-container-id-1 {color: black;background-color: white;}#sk-container-id-1 pre{padding: 0;}#sk-container-id-1 div.sk-toggleable {background-color: white;}#sk-container-id-1 label.sk-toggleable__label {cursor: pointer;display: block;width: 100%;margin-bottom: 0;padding: 0.3em;box-sizing: border-box;text-align: center;}#sk-container-id-1 label.sk-toggleable__label-arrow:before {content: \"▸\";float: left;margin-right: 0.25em;color: #696969;}#sk-container-id-1 label.sk-toggleable__label-arrow:hover:before {color: black;}#sk-container-id-1 div.sk-estimator:hover label.sk-toggleable__label-arrow:before {color: black;}#sk-container-id-1 div.sk-toggleable__content {max-height: 0;max-width: 0;overflow: hidden;text-align: left;background-color: #f0f8ff;}#sk-container-id-1 div.sk-toggleable__content pre {margin: 0.2em;color: black;border-radius: 0.25em;background-color: #f0f8ff;}#sk-container-id-1 input.sk-toggleable__control:checked~div.sk-toggleable__content {max-height: 200px;max-width: 100%;overflow: auto;}#sk-container-id-1 input.sk-toggleable__control:checked~label.sk-toggleable__label-arrow:before {content: \"▾\";}#sk-container-id-1 div.sk-estimator input.sk-toggleable__control:checked~label.sk-toggleable__label {background-color: #d4ebff;}#sk-container-id-1 div.sk-label input.sk-toggleable__control:checked~label.sk-toggleable__label {background-color: #d4ebff;}#sk-container-id-1 input.sk-hidden--visually {border: 0;clip: rect(1px 1px 1px 1px);clip: rect(1px, 1px, 1px, 1px);height: 1px;margin: -1px;overflow: hidden;padding: 0;position: absolute;width: 1px;}#sk-container-id-1 div.sk-estimator {font-family: monospace;background-color: #f0f8ff;border: 1px dotted black;border-radius: 0.25em;box-sizing: border-box;margin-bottom: 0.5em;}#sk-container-id-1 div.sk-estimator:hover {background-color: #d4ebff;}#sk-container-id-1 div.sk-parallel-item::after {content: \"\";width: 100%;border-bottom: 1px solid gray;flex-grow: 1;}#sk-container-id-1 div.sk-label:hover label.sk-toggleable__label {background-color: #d4ebff;}#sk-container-id-1 div.sk-serial::before {content: \"\";position: absolute;border-left: 1px solid gray;box-sizing: border-box;top: 0;bottom: 0;left: 50%;z-index: 0;}#sk-container-id-1 div.sk-serial {display: flex;flex-direction: column;align-items: center;background-color: white;padding-right: 0.2em;padding-left: 0.2em;position: relative;}#sk-container-id-1 div.sk-item {position: relative;z-index: 1;}#sk-container-id-1 div.sk-parallel {display: flex;align-items: stretch;justify-content: center;background-color: white;position: relative;}#sk-container-id-1 div.sk-item::before, #sk-container-id-1 div.sk-parallel-item::before {content: \"\";position: absolute;border-left: 1px solid gray;box-sizing: border-box;top: 0;bottom: 0;left: 50%;z-index: -1;}#sk-container-id-1 div.sk-parallel-item {display: flex;flex-direction: column;z-index: 1;position: relative;background-color: white;}#sk-container-id-1 div.sk-parallel-item:first-child::after {align-self: flex-end;width: 50%;}#sk-container-id-1 div.sk-parallel-item:last-child::after {align-self: flex-start;width: 50%;}#sk-container-id-1 div.sk-parallel-item:only-child::after {width: 0;}#sk-container-id-1 div.sk-dashed-wrapped {border: 1px dashed gray;margin: 0 0.4em 0.5em 0.4em;box-sizing: border-box;padding-bottom: 0.4em;background-color: white;}#sk-container-id-1 div.sk-label label {font-family: monospace;font-weight: bold;display: inline-block;line-height: 1.2em;}#sk-container-id-1 div.sk-label-container {text-align: center;}#sk-container-id-1 div.sk-container {/* jupyter's `normalize.less` sets `[hidden] { display: none; }` but bootstrap.min.css set `[hidden] { display: none !important; }` so we also need the `!important` here to be able to override the default hidden behavior on the sphinx rendered scikit-learn.org. See: https://github.com/scikit-learn/scikit-learn/issues/21755 */display: inline-block !important;position: relative;}#sk-container-id-1 div.sk-text-repr-fallback {display: none;}</style><div id=\"sk-container-id-1\" class=\"sk-top-container\"><div class=\"sk-text-repr-fallback\"><pre>LinearRegression()</pre><b>In a Jupyter environment, please rerun this cell to show the HTML representation or trust the notebook. <br />On GitHub, the HTML representation is unable to render, please try loading this page with nbviewer.org.</b></div><div class=\"sk-container\" hidden><div class=\"sk-item\"><div class=\"sk-estimator sk-toggleable\"><input class=\"sk-toggleable__control sk-hidden--visually\" id=\"sk-estimator-id-1\" type=\"checkbox\" checked><label for=\"sk-estimator-id-1\" class=\"sk-toggleable__label sk-toggleable__label-arrow\">LinearRegression</label><div class=\"sk-toggleable__content\"><pre>LinearRegression()</pre></div></div></div></div></div>"
            ]
          },
          "metadata": {},
          "execution_count": 19
        }
      ]
    },
    {
      "cell_type": "markdown",
      "source": [
        "## 2.3 Evaluate"
      ],
      "metadata": {
        "id": "HveycmQ5RU2v"
      }
    },
    {
      "cell_type": "markdown",
      "source": [
        "I calculated the training and test mean absolute error for our model."
      ],
      "metadata": {
        "id": "31r406qURWqj"
      }
    },
    {
      "cell_type": "code",
      "source": [
        "# Training mean absolute error\n",
        "training_mae = mean_absolute_error(y_train, model.predict(X_train))\n",
        "# Test mean absolute error\n",
        "test_mae = mean_absolute_error(y_test, model.predict(X_test))\n",
        "print(\"Training MAE:\", round(training_mae, 2))\n",
        "print(\"Test MAE:\", round(test_mae, 2))"
      ],
      "metadata": {
        "id": "2POzXm-3RZo2",
        "colab": {
          "base_uri": "https://localhost:8080/"
        },
        "outputId": "13e9419f-2c95-4cdb-b317-46c9c60caf07"
      },
      "execution_count": null,
      "outputs": [
        {
          "output_type": "stream",
          "name": "stdout",
          "text": [
            "Training MAE: 0.84\n",
            "Test MAE: 1.46\n"
          ]
        }
      ]
    },
    {
      "cell_type": "markdown",
      "source": [
        "# 3. Communicate Results"
      ],
      "metadata": {
        "id": "_aXORDOURe-T"
      }
    },
    {
      "cell_type": "code",
      "source": [
        "# Extract the intercept and coefficient from our model\n",
        "intercept = model.intercept_.round(2)\n",
        "coefficient = model.coef_.round(2)[0]\n",
        "print(f\"PM2 = {intercept} + ({coefficient} * PM2.L1)\")"
      ],
      "metadata": {
        "id": "obIjQLdrRj9P",
        "colab": {
          "base_uri": "https://localhost:8080/"
        },
        "outputId": "37157501-7043-47ee-faba-9000d6ab4cce"
      },
      "execution_count": null,
      "outputs": [
        {
          "output_type": "stream",
          "name": "stdout",
          "text": [
            "PM2 = 0.5 + (0.94 * PM2.L1)\n"
          ]
        }
      ]
    },
    {
      "cell_type": "code",
      "source": [
        "# DataFrame `df_pred_test` contain the true values for our test set and our model’s predictions\n",
        "df_pred_test = pd.DataFrame(\n",
        "     {\n",
        "          \"y_test\": y_test,\n",
        "          \"y_pred\": model.predict(X_test)\n",
        "     }\n",
        ")\n",
        "df_pred_test.head()"
      ],
      "metadata": {
        "id": "vyz98VdSRtL-",
        "colab": {
          "base_uri": "https://localhost:8080/",
          "height": 324
        },
        "outputId": "c7983c07-7283-4524-aba0-40a37eaafcbf"
      },
      "execution_count": null,
      "outputs": [
        {
          "output_type": "execute_result",
          "data": {
            "text/plain": [
              "                             y_test    y_pred\n",
              "timestamp                                    \n",
              "2018-02-26 22:00:00+03:00  3.784167  4.141926\n",
              "2018-02-26 23:00:00+03:00  4.715833  4.075355\n",
              "2018-02-27 00:00:00+03:00  4.234444  4.954397\n",
              "2018-02-27 01:00:00+03:00  3.892500  4.500199\n",
              "2018-02-27 02:00:00+03:00  2.962778  4.177569"
            ],
            "text/html": [
              "\n",
              "  <div id=\"df-0b6273d6-170f-47dd-81b9-2b1ddd96bd0a\" class=\"colab-df-container\">\n",
              "    <div>\n",
              "<style scoped>\n",
              "    .dataframe tbody tr th:only-of-type {\n",
              "        vertical-align: middle;\n",
              "    }\n",
              "\n",
              "    .dataframe tbody tr th {\n",
              "        vertical-align: top;\n",
              "    }\n",
              "\n",
              "    .dataframe thead th {\n",
              "        text-align: right;\n",
              "    }\n",
              "</style>\n",
              "<table border=\"1\" class=\"dataframe\">\n",
              "  <thead>\n",
              "    <tr style=\"text-align: right;\">\n",
              "      <th></th>\n",
              "      <th>y_test</th>\n",
              "      <th>y_pred</th>\n",
              "    </tr>\n",
              "    <tr>\n",
              "      <th>timestamp</th>\n",
              "      <th></th>\n",
              "      <th></th>\n",
              "    </tr>\n",
              "  </thead>\n",
              "  <tbody>\n",
              "    <tr>\n",
              "      <th>2018-02-26 22:00:00+03:00</th>\n",
              "      <td>3.784167</td>\n",
              "      <td>4.141926</td>\n",
              "    </tr>\n",
              "    <tr>\n",
              "      <th>2018-02-26 23:00:00+03:00</th>\n",
              "      <td>4.715833</td>\n",
              "      <td>4.075355</td>\n",
              "    </tr>\n",
              "    <tr>\n",
              "      <th>2018-02-27 00:00:00+03:00</th>\n",
              "      <td>4.234444</td>\n",
              "      <td>4.954397</td>\n",
              "    </tr>\n",
              "    <tr>\n",
              "      <th>2018-02-27 01:00:00+03:00</th>\n",
              "      <td>3.892500</td>\n",
              "      <td>4.500199</td>\n",
              "    </tr>\n",
              "    <tr>\n",
              "      <th>2018-02-27 02:00:00+03:00</th>\n",
              "      <td>2.962778</td>\n",
              "      <td>4.177569</td>\n",
              "    </tr>\n",
              "  </tbody>\n",
              "</table>\n",
              "</div>\n",
              "    <div class=\"colab-df-buttons\">\n",
              "\n",
              "  <div class=\"colab-df-container\">\n",
              "    <button class=\"colab-df-convert\" onclick=\"convertToInteractive('df-0b6273d6-170f-47dd-81b9-2b1ddd96bd0a')\"\n",
              "            title=\"Convert this dataframe to an interactive table.\"\n",
              "            style=\"display:none;\">\n",
              "\n",
              "  <svg xmlns=\"http://www.w3.org/2000/svg\" height=\"24px\" viewBox=\"0 -960 960 960\">\n",
              "    <path d=\"M120-120v-720h720v720H120Zm60-500h600v-160H180v160Zm220 220h160v-160H400v160Zm0 220h160v-160H400v160ZM180-400h160v-160H180v160Zm440 0h160v-160H620v160ZM180-180h160v-160H180v160Zm440 0h160v-160H620v160Z\"/>\n",
              "  </svg>\n",
              "    </button>\n",
              "\n",
              "  <style>\n",
              "    .colab-df-container {\n",
              "      display:flex;\n",
              "      gap: 12px;\n",
              "    }\n",
              "\n",
              "    .colab-df-convert {\n",
              "      background-color: #E8F0FE;\n",
              "      border: none;\n",
              "      border-radius: 50%;\n",
              "      cursor: pointer;\n",
              "      display: none;\n",
              "      fill: #1967D2;\n",
              "      height: 32px;\n",
              "      padding: 0 0 0 0;\n",
              "      width: 32px;\n",
              "    }\n",
              "\n",
              "    .colab-df-convert:hover {\n",
              "      background-color: #E2EBFA;\n",
              "      box-shadow: 0px 1px 2px rgba(60, 64, 67, 0.3), 0px 1px 3px 1px rgba(60, 64, 67, 0.15);\n",
              "      fill: #174EA6;\n",
              "    }\n",
              "\n",
              "    .colab-df-buttons div {\n",
              "      margin-bottom: 4px;\n",
              "    }\n",
              "\n",
              "    [theme=dark] .colab-df-convert {\n",
              "      background-color: #3B4455;\n",
              "      fill: #D2E3FC;\n",
              "    }\n",
              "\n",
              "    [theme=dark] .colab-df-convert:hover {\n",
              "      background-color: #434B5C;\n",
              "      box-shadow: 0px 1px 3px 1px rgba(0, 0, 0, 0.15);\n",
              "      filter: drop-shadow(0px 1px 2px rgba(0, 0, 0, 0.3));\n",
              "      fill: #FFFFFF;\n",
              "    }\n",
              "  </style>\n",
              "\n",
              "    <script>\n",
              "      const buttonEl =\n",
              "        document.querySelector('#df-0b6273d6-170f-47dd-81b9-2b1ddd96bd0a button.colab-df-convert');\n",
              "      buttonEl.style.display =\n",
              "        google.colab.kernel.accessAllowed ? 'block' : 'none';\n",
              "\n",
              "      async function convertToInteractive(key) {\n",
              "        const element = document.querySelector('#df-0b6273d6-170f-47dd-81b9-2b1ddd96bd0a');\n",
              "        const dataTable =\n",
              "          await google.colab.kernel.invokeFunction('convertToInteractive',\n",
              "                                                    [key], {});\n",
              "        if (!dataTable) return;\n",
              "\n",
              "        const docLinkHtml = 'Like what you see? Visit the ' +\n",
              "          '<a target=\"_blank\" href=https://colab.research.google.com/notebooks/data_table.ipynb>data table notebook</a>'\n",
              "          + ' to learn more about interactive tables.';\n",
              "        element.innerHTML = '';\n",
              "        dataTable['output_type'] = 'display_data';\n",
              "        await google.colab.output.renderOutput(dataTable, element);\n",
              "        const docLink = document.createElement('div');\n",
              "        docLink.innerHTML = docLinkHtml;\n",
              "        element.appendChild(docLink);\n",
              "      }\n",
              "    </script>\n",
              "  </div>\n",
              "\n",
              "\n",
              "<div id=\"df-e2337c65-a962-4fd2-8ce9-014bd18e22d4\">\n",
              "  <button class=\"colab-df-quickchart\" onclick=\"quickchart('df-e2337c65-a962-4fd2-8ce9-014bd18e22d4')\"\n",
              "            title=\"Suggest charts.\"\n",
              "            style=\"display:none;\">\n",
              "\n",
              "<svg xmlns=\"http://www.w3.org/2000/svg\" height=\"24px\"viewBox=\"0 0 24 24\"\n",
              "     width=\"24px\">\n",
              "    <g>\n",
              "        <path d=\"M19 3H5c-1.1 0-2 .9-2 2v14c0 1.1.9 2 2 2h14c1.1 0 2-.9 2-2V5c0-1.1-.9-2-2-2zM9 17H7v-7h2v7zm4 0h-2V7h2v10zm4 0h-2v-4h2v4z\"/>\n",
              "    </g>\n",
              "</svg>\n",
              "  </button>\n",
              "\n",
              "<style>\n",
              "  .colab-df-quickchart {\n",
              "      --bg-color: #E8F0FE;\n",
              "      --fill-color: #1967D2;\n",
              "      --hover-bg-color: #E2EBFA;\n",
              "      --hover-fill-color: #174EA6;\n",
              "      --disabled-fill-color: #AAA;\n",
              "      --disabled-bg-color: #DDD;\n",
              "  }\n",
              "\n",
              "  [theme=dark] .colab-df-quickchart {\n",
              "      --bg-color: #3B4455;\n",
              "      --fill-color: #D2E3FC;\n",
              "      --hover-bg-color: #434B5C;\n",
              "      --hover-fill-color: #FFFFFF;\n",
              "      --disabled-bg-color: #3B4455;\n",
              "      --disabled-fill-color: #666;\n",
              "  }\n",
              "\n",
              "  .colab-df-quickchart {\n",
              "    background-color: var(--bg-color);\n",
              "    border: none;\n",
              "    border-radius: 50%;\n",
              "    cursor: pointer;\n",
              "    display: none;\n",
              "    fill: var(--fill-color);\n",
              "    height: 32px;\n",
              "    padding: 0;\n",
              "    width: 32px;\n",
              "  }\n",
              "\n",
              "  .colab-df-quickchart:hover {\n",
              "    background-color: var(--hover-bg-color);\n",
              "    box-shadow: 0 1px 2px rgba(60, 64, 67, 0.3), 0 1px 3px 1px rgba(60, 64, 67, 0.15);\n",
              "    fill: var(--button-hover-fill-color);\n",
              "  }\n",
              "\n",
              "  .colab-df-quickchart-complete:disabled,\n",
              "  .colab-df-quickchart-complete:disabled:hover {\n",
              "    background-color: var(--disabled-bg-color);\n",
              "    fill: var(--disabled-fill-color);\n",
              "    box-shadow: none;\n",
              "  }\n",
              "\n",
              "  .colab-df-spinner {\n",
              "    border: 2px solid var(--fill-color);\n",
              "    border-color: transparent;\n",
              "    border-bottom-color: var(--fill-color);\n",
              "    animation:\n",
              "      spin 1s steps(1) infinite;\n",
              "  }\n",
              "\n",
              "  @keyframes spin {\n",
              "    0% {\n",
              "      border-color: transparent;\n",
              "      border-bottom-color: var(--fill-color);\n",
              "      border-left-color: var(--fill-color);\n",
              "    }\n",
              "    20% {\n",
              "      border-color: transparent;\n",
              "      border-left-color: var(--fill-color);\n",
              "      border-top-color: var(--fill-color);\n",
              "    }\n",
              "    30% {\n",
              "      border-color: transparent;\n",
              "      border-left-color: var(--fill-color);\n",
              "      border-top-color: var(--fill-color);\n",
              "      border-right-color: var(--fill-color);\n",
              "    }\n",
              "    40% {\n",
              "      border-color: transparent;\n",
              "      border-right-color: var(--fill-color);\n",
              "      border-top-color: var(--fill-color);\n",
              "    }\n",
              "    60% {\n",
              "      border-color: transparent;\n",
              "      border-right-color: var(--fill-color);\n",
              "    }\n",
              "    80% {\n",
              "      border-color: transparent;\n",
              "      border-right-color: var(--fill-color);\n",
              "      border-bottom-color: var(--fill-color);\n",
              "    }\n",
              "    90% {\n",
              "      border-color: transparent;\n",
              "      border-bottom-color: var(--fill-color);\n",
              "    }\n",
              "  }\n",
              "</style>\n",
              "\n",
              "  <script>\n",
              "    async function quickchart(key) {\n",
              "      const quickchartButtonEl =\n",
              "        document.querySelector('#' + key + ' button');\n",
              "      quickchartButtonEl.disabled = true;  // To prevent multiple clicks.\n",
              "      quickchartButtonEl.classList.add('colab-df-spinner');\n",
              "      try {\n",
              "        const charts = await google.colab.kernel.invokeFunction(\n",
              "            'suggestCharts', [key], {});\n",
              "      } catch (error) {\n",
              "        console.error('Error during call to suggestCharts:', error);\n",
              "      }\n",
              "      quickchartButtonEl.classList.remove('colab-df-spinner');\n",
              "      quickchartButtonEl.classList.add('colab-df-quickchart-complete');\n",
              "    }\n",
              "    (() => {\n",
              "      let quickchartButtonEl =\n",
              "        document.querySelector('#df-e2337c65-a962-4fd2-8ce9-014bd18e22d4 button');\n",
              "      quickchartButtonEl.style.display =\n",
              "        google.colab.kernel.accessAllowed ? 'block' : 'none';\n",
              "    })();\n",
              "  </script>\n",
              "</div>\n",
              "    </div>\n",
              "  </div>\n"
            ]
          },
          "metadata": {},
          "execution_count": 22
        }
      ]
    },
    {
      "cell_type": "code",
      "source": [
        "fig = px.line(df_pred_test, labels= {\"value\": \"P2\"})\n",
        "fig.show()"
      ],
      "metadata": {
        "id": "YsiiLeisR5eb",
        "colab": {
          "base_uri": "https://localhost:8080/",
          "height": 542
        },
        "outputId": "9ffe8088-6c78-4c8f-98a5-2ac4f1cdff5f"
      },
      "execution_count": null,
      "outputs": [
        {
          "output_type": "display_data",
          "data": {
            "text/html": [
              "<html>\n",
              "<head><meta charset=\"utf-8\" /></head>\n",
              "<body>\n",
              "    <div>            <script src=\"https://cdnjs.cloudflare.com/ajax/libs/mathjax/2.7.5/MathJax.js?config=TeX-AMS-MML_SVG\"></script><script type=\"text/javascript\">if (window.MathJax && window.MathJax.Hub && window.MathJax.Hub.Config) {window.MathJax.Hub.Config({SVG: {font: \"STIX-Web\"}});}</script>                <script type=\"text/javascript\">window.PlotlyConfig = {MathJaxConfig: 'local'};</script>\n",
              "        <script charset=\"utf-8\" src=\"https://cdn.plot.ly/plotly-2.24.1.min.js\"></script>                <div id=\"68280ea6-a4db-421c-986d-ae8d2108e592\" class=\"plotly-graph-div\" style=\"height:525px; width:100%;\"></div>            <script type=\"text/javascript\">                                    window.PLOTLYENV=window.PLOTLYENV || {};                                    if (document.getElementById(\"68280ea6-a4db-421c-986d-ae8d2108e592\")) {                    Plotly.newPlot(                        \"68280ea6-a4db-421c-986d-ae8d2108e592\",                        [{\"hovertemplate\":\"variable=y_test\\u003cbr\\u003etimestamp=%{x}\\u003cbr\\u003eP2=%{y}\\u003cextra\\u003e\\u003c\\u002fextra\\u003e\",\"legendgroup\":\"y_test\",\"line\":{\"color\":\"#636efa\",\"dash\":\"solid\"},\"marker\":{\"symbol\":\"circle\"},\"mode\":\"lines\",\"name\":\"y_test\",\"orientation\":\"v\",\"showlegend\":true,\"x\":[\"2018-02-26T22:00:00+03:00\",\"2018-02-26T23:00:00+03:00\",\"2018-02-27T00:00:00+03:00\",\"2018-02-27T01:00:00+03:00\",\"2018-02-27T02:00:00+03:00\",\"2018-02-27T03:00:00+03:00\",\"2018-02-27T04:00:00+03:00\",\"2018-02-27T05:00:00+03:00\",\"2018-02-27T06:00:00+03:00\",\"2018-02-27T07:00:00+03:00\",\"2018-02-27T08:00:00+03:00\",\"2018-02-27T09:00:00+03:00\",\"2018-02-27T10:00:00+03:00\",\"2018-02-27T11:00:00+03:00\",\"2018-02-27T12:00:00+03:00\",\"2018-02-27T13:00:00+03:00\",\"2018-02-27T14:00:00+03:00\",\"2018-02-27T15:00:00+03:00\",\"2018-02-27T16:00:00+03:00\",\"2018-02-27T17:00:00+03:00\",\"2018-02-27T18:00:00+03:00\",\"2018-02-27T19:00:00+03:00\",\"2018-02-27T20:00:00+03:00\",\"2018-02-27T21:00:00+03:00\",\"2018-02-27T22:00:00+03:00\",\"2018-02-27T23:00:00+03:00\",\"2018-02-28T00:00:00+03:00\",\"2018-02-28T01:00:00+03:00\",\"2018-02-28T02:00:00+03:00\",\"2018-02-28T03:00:00+03:00\",\"2018-02-28T04:00:00+03:00\",\"2018-02-28T05:00:00+03:00\",\"2018-02-28T06:00:00+03:00\",\"2018-02-28T07:00:00+03:00\",\"2018-02-28T08:00:00+03:00\",\"2018-02-28T09:00:00+03:00\",\"2018-02-28T10:00:00+03:00\",\"2018-02-28T11:00:00+03:00\",\"2018-02-28T12:00:00+03:00\",\"2018-02-28T13:00:00+03:00\",\"2018-02-28T14:00:00+03:00\",\"2018-02-28T15:00:00+03:00\",\"2018-02-28T16:00:00+03:00\",\"2018-02-28T17:00:00+03:00\",\"2018-02-28T18:00:00+03:00\",\"2018-02-28T19:00:00+03:00\",\"2018-02-28T20:00:00+03:00\",\"2018-02-28T21:00:00+03:00\",\"2018-02-28T22:00:00+03:00\",\"2018-02-28T23:00:00+03:00\",\"2018-03-01T00:00:00+03:00\",\"2018-03-01T01:00:00+03:00\",\"2018-03-01T02:00:00+03:00\",\"2018-03-01T03:00:00+03:00\",\"2018-03-01T04:00:00+03:00\",\"2018-03-01T05:00:00+03:00\",\"2018-03-01T06:00:00+03:00\",\"2018-03-01T07:00:00+03:00\",\"2018-03-01T08:00:00+03:00\",\"2018-03-01T09:00:00+03:00\",\"2018-03-01T10:00:00+03:00\",\"2018-03-01T11:00:00+03:00\",\"2018-03-01T12:00:00+03:00\",\"2018-03-01T13:00:00+03:00\",\"2018-03-01T14:00:00+03:00\",\"2018-03-01T15:00:00+03:00\",\"2018-03-01T16:00:00+03:00\",\"2018-03-01T17:00:00+03:00\",\"2018-03-01T18:00:00+03:00\",\"2018-03-01T19:00:00+03:00\",\"2018-03-01T20:00:00+03:00\",\"2018-03-01T21:00:00+03:00\",\"2018-03-01T22:00:00+03:00\",\"2018-03-01T23:00:00+03:00\",\"2018-03-02T00:00:00+03:00\",\"2018-03-02T01:00:00+03:00\",\"2018-03-02T02:00:00+03:00\",\"2018-03-02T03:00:00+03:00\",\"2018-03-02T04:00:00+03:00\",\"2018-03-02T05:00:00+03:00\",\"2018-03-02T06:00:00+03:00\",\"2018-03-02T07:00:00+03:00\",\"2018-03-02T08:00:00+03:00\",\"2018-03-02T09:00:00+03:00\",\"2018-03-02T10:00:00+03:00\",\"2018-03-02T11:00:00+03:00\",\"2018-03-02T12:00:00+03:00\",\"2018-03-02T13:00:00+03:00\",\"2018-03-02T14:00:00+03:00\",\"2018-03-02T15:00:00+03:00\",\"2018-03-02T16:00:00+03:00\",\"2018-03-02T17:00:00+03:00\",\"2018-03-02T18:00:00+03:00\",\"2018-03-02T19:00:00+03:00\",\"2018-03-02T20:00:00+03:00\",\"2018-03-02T21:00:00+03:00\",\"2018-03-02T22:00:00+03:00\",\"2018-03-02T23:00:00+03:00\",\"2018-03-03T00:00:00+03:00\",\"2018-03-03T01:00:00+03:00\",\"2018-03-03T02:00:00+03:00\",\"2018-03-03T03:00:00+03:00\",\"2018-03-03T04:00:00+03:00\",\"2018-03-03T05:00:00+03:00\",\"2018-03-03T06:00:00+03:00\",\"2018-03-03T07:00:00+03:00\",\"2018-03-03T08:00:00+03:00\",\"2018-03-03T09:00:00+03:00\",\"2018-03-03T10:00:00+03:00\",\"2018-03-03T11:00:00+03:00\",\"2018-03-03T12:00:00+03:00\",\"2018-03-03T13:00:00+03:00\",\"2018-03-03T14:00:00+03:00\",\"2018-03-03T15:00:00+03:00\",\"2018-03-03T16:00:00+03:00\",\"2018-03-03T17:00:00+03:00\",\"2018-03-03T18:00:00+03:00\",\"2018-03-03T19:00:00+03:00\",\"2018-03-03T20:00:00+03:00\",\"2018-03-03T21:00:00+03:00\",\"2018-03-03T22:00:00+03:00\",\"2018-03-03T23:00:00+03:00\",\"2018-03-04T00:00:00+03:00\",\"2018-03-04T01:00:00+03:00\",\"2018-03-04T02:00:00+03:00\",\"2018-03-04T03:00:00+03:00\",\"2018-03-04T04:00:00+03:00\",\"2018-03-04T05:00:00+03:00\",\"2018-03-04T06:00:00+03:00\",\"2018-03-04T07:00:00+03:00\",\"2018-03-04T08:00:00+03:00\",\"2018-03-04T09:00:00+03:00\",\"2018-03-04T10:00:00+03:00\",\"2018-03-04T11:00:00+03:00\",\"2018-03-04T12:00:00+03:00\",\"2018-03-04T13:00:00+03:00\",\"2018-03-04T14:00:00+03:00\",\"2018-03-04T15:00:00+03:00\",\"2018-03-04T16:00:00+03:00\",\"2018-03-04T17:00:00+03:00\",\"2018-03-04T18:00:00+03:00\",\"2018-03-04T19:00:00+03:00\",\"2018-03-04T20:00:00+03:00\",\"2018-03-04T21:00:00+03:00\",\"2018-03-04T22:00:00+03:00\",\"2018-03-04T23:00:00+03:00\",\"2018-03-05T00:00:00+03:00\",\"2018-03-05T01:00:00+03:00\",\"2018-03-05T02:00:00+03:00\",\"2018-03-05T03:00:00+03:00\",\"2018-03-05T04:00:00+03:00\",\"2018-03-05T05:00:00+03:00\",\"2018-03-05T06:00:00+03:00\",\"2018-03-05T07:00:00+03:00\",\"2018-03-05T08:00:00+03:00\",\"2018-03-05T09:00:00+03:00\",\"2018-03-05T10:00:00+03:00\",\"2018-03-05T11:00:00+03:00\",\"2018-03-05T12:00:00+03:00\",\"2018-03-05T13:00:00+03:00\",\"2018-03-05T14:00:00+03:00\",\"2018-03-05T15:00:00+03:00\",\"2018-03-05T16:00:00+03:00\",\"2018-03-05T17:00:00+03:00\",\"2018-03-05T18:00:00+03:00\",\"2018-03-05T19:00:00+03:00\",\"2018-03-05T20:00:00+03:00\",\"2018-03-05T21:00:00+03:00\",\"2018-03-05T22:00:00+03:00\",\"2018-03-05T23:00:00+03:00\",\"2018-03-06T00:00:00+03:00\",\"2018-03-06T01:00:00+03:00\",\"2018-03-06T02:00:00+03:00\",\"2018-03-06T03:00:00+03:00\",\"2018-03-06T04:00:00+03:00\",\"2018-03-06T05:00:00+03:00\",\"2018-03-06T06:00:00+03:00\",\"2018-03-06T07:00:00+03:00\",\"2018-03-06T08:00:00+03:00\",\"2018-03-06T09:00:00+03:00\",\"2018-03-06T10:00:00+03:00\",\"2018-03-06T11:00:00+03:00\",\"2018-03-06T12:00:00+03:00\",\"2018-03-06T13:00:00+03:00\",\"2018-03-06T14:00:00+03:00\",\"2018-03-06T15:00:00+03:00\",\"2018-03-06T16:00:00+03:00\",\"2018-03-06T17:00:00+03:00\",\"2018-03-06T18:00:00+03:00\",\"2018-03-06T19:00:00+03:00\",\"2018-03-06T20:00:00+03:00\",\"2018-03-06T21:00:00+03:00\",\"2018-03-06T22:00:00+03:00\",\"2018-03-06T23:00:00+03:00\",\"2018-03-07T00:00:00+03:00\",\"2018-03-07T01:00:00+03:00\",\"2018-03-07T02:00:00+03:00\",\"2018-03-07T03:00:00+03:00\",\"2018-03-07T04:00:00+03:00\",\"2018-03-07T05:00:00+03:00\",\"2018-03-07T06:00:00+03:00\",\"2018-03-07T07:00:00+03:00\",\"2018-03-07T08:00:00+03:00\",\"2018-03-07T09:00:00+03:00\",\"2018-03-07T10:00:00+03:00\",\"2018-03-07T11:00:00+03:00\",\"2018-03-07T12:00:00+03:00\",\"2018-03-07T13:00:00+03:00\",\"2018-03-07T14:00:00+03:00\",\"2018-03-07T15:00:00+03:00\",\"2018-03-07T16:00:00+03:00\",\"2018-03-07T17:00:00+03:00\",\"2018-03-07T18:00:00+03:00\",\"2018-03-07T19:00:00+03:00\",\"2018-03-07T20:00:00+03:00\",\"2018-03-07T21:00:00+03:00\",\"2018-03-07T22:00:00+03:00\",\"2018-03-07T23:00:00+03:00\",\"2018-03-08T00:00:00+03:00\",\"2018-03-08T01:00:00+03:00\",\"2018-03-08T02:00:00+03:00\",\"2018-03-08T03:00:00+03:00\",\"2018-03-08T04:00:00+03:00\",\"2018-03-08T05:00:00+03:00\",\"2018-03-08T06:00:00+03:00\",\"2018-03-08T07:00:00+03:00\",\"2018-03-08T08:00:00+03:00\",\"2018-03-08T09:00:00+03:00\",\"2018-03-08T10:00:00+03:00\",\"2018-03-08T11:00:00+03:00\",\"2018-03-08T12:00:00+03:00\",\"2018-03-08T13:00:00+03:00\",\"2018-03-08T14:00:00+03:00\",\"2018-03-08T15:00:00+03:00\",\"2018-03-08T16:00:00+03:00\",\"2018-03-08T17:00:00+03:00\",\"2018-03-08T18:00:00+03:00\",\"2018-03-08T19:00:00+03:00\",\"2018-03-08T20:00:00+03:00\",\"2018-03-08T21:00:00+03:00\",\"2018-03-08T22:00:00+03:00\",\"2018-03-08T23:00:00+03:00\",\"2018-03-09T00:00:00+03:00\",\"2018-03-09T01:00:00+03:00\",\"2018-03-09T02:00:00+03:00\",\"2018-03-09T03:00:00+03:00\",\"2018-03-09T04:00:00+03:00\",\"2018-03-09T05:00:00+03:00\",\"2018-03-09T06:00:00+03:00\",\"2018-03-09T07:00:00+03:00\",\"2018-03-09T08:00:00+03:00\",\"2018-03-09T09:00:00+03:00\",\"2018-03-09T10:00:00+03:00\",\"2018-03-09T11:00:00+03:00\",\"2018-03-09T12:00:00+03:00\",\"2018-03-09T13:00:00+03:00\",\"2018-03-09T14:00:00+03:00\",\"2018-03-09T15:00:00+03:00\",\"2018-03-09T16:00:00+03:00\",\"2018-03-09T17:00:00+03:00\",\"2018-03-09T18:00:00+03:00\",\"2018-03-09T19:00:00+03:00\",\"2018-03-09T20:00:00+03:00\",\"2018-03-09T21:00:00+03:00\",\"2018-03-09T22:00:00+03:00\",\"2018-03-09T23:00:00+03:00\",\"2018-03-10T00:00:00+03:00\",\"2018-03-10T01:00:00+03:00\",\"2018-03-10T02:00:00+03:00\",\"2018-03-10T03:00:00+03:00\",\"2018-03-10T04:00:00+03:00\",\"2018-03-10T05:00:00+03:00\",\"2018-03-10T06:00:00+03:00\",\"2018-03-10T07:00:00+03:00\",\"2018-03-10T08:00:00+03:00\",\"2018-03-10T09:00:00+03:00\",\"2018-03-10T10:00:00+03:00\",\"2018-03-10T11:00:00+03:00\",\"2018-03-10T12:00:00+03:00\",\"2018-03-10T13:00:00+03:00\",\"2018-03-10T14:00:00+03:00\",\"2018-03-10T15:00:00+03:00\",\"2018-03-10T16:00:00+03:00\",\"2018-03-10T17:00:00+03:00\",\"2018-03-10T18:00:00+03:00\",\"2018-03-10T19:00:00+03:00\",\"2018-03-10T20:00:00+03:00\",\"2018-03-10T21:00:00+03:00\",\"2018-03-10T22:00:00+03:00\",\"2018-03-10T23:00:00+03:00\",\"2018-03-11T00:00:00+03:00\",\"2018-03-11T01:00:00+03:00\",\"2018-03-11T02:00:00+03:00\",\"2018-03-11T03:00:00+03:00\",\"2018-03-11T04:00:00+03:00\",\"2018-03-11T05:00:00+03:00\",\"2018-03-11T06:00:00+03:00\",\"2018-03-11T07:00:00+03:00\",\"2018-03-11T08:00:00+03:00\",\"2018-03-11T09:00:00+03:00\",\"2018-03-11T10:00:00+03:00\",\"2018-03-11T11:00:00+03:00\",\"2018-03-11T12:00:00+03:00\",\"2018-03-11T13:00:00+03:00\",\"2018-03-11T14:00:00+03:00\",\"2018-03-11T15:00:00+03:00\",\"2018-03-11T16:00:00+03:00\",\"2018-03-11T17:00:00+03:00\",\"2018-03-11T18:00:00+03:00\",\"2018-03-11T19:00:00+03:00\",\"2018-03-11T20:00:00+03:00\",\"2018-03-11T21:00:00+03:00\",\"2018-03-11T22:00:00+03:00\",\"2018-03-11T23:00:00+03:00\",\"2018-03-12T00:00:00+03:00\",\"2018-03-12T01:00:00+03:00\",\"2018-03-12T02:00:00+03:00\",\"2018-03-12T03:00:00+03:00\",\"2018-03-12T04:00:00+03:00\",\"2018-03-12T05:00:00+03:00\",\"2018-03-12T06:00:00+03:00\",\"2018-03-12T07:00:00+03:00\",\"2018-03-12T08:00:00+03:00\",\"2018-03-12T09:00:00+03:00\",\"2018-03-12T10:00:00+03:00\",\"2018-03-12T11:00:00+03:00\",\"2018-03-12T12:00:00+03:00\",\"2018-03-12T13:00:00+03:00\",\"2018-03-12T14:00:00+03:00\",\"2018-03-12T15:00:00+03:00\",\"2018-03-12T16:00:00+03:00\",\"2018-03-12T17:00:00+03:00\",\"2018-03-12T18:00:00+03:00\",\"2018-03-12T19:00:00+03:00\",\"2018-03-12T20:00:00+03:00\",\"2018-03-12T21:00:00+03:00\",\"2018-03-12T22:00:00+03:00\",\"2018-03-12T23:00:00+03:00\",\"2018-03-13T00:00:00+03:00\",\"2018-03-13T01:00:00+03:00\",\"2018-03-13T02:00:00+03:00\"],\"xaxis\":\"x\",\"y\":[3.7841666666666662,4.715833333333333,4.234444444444445,3.8925,2.9627777777777777,3.0552777777777775,13.843333333333334,21.121944444444445,25.487499999999997,28.817222222222224,24.287222222222223,12.278571428571428,5.62,3.209142857142857,2.2502857142857144,2.2837837837837838,2.339318181818182,2.6193023255813954,2.8258695652173915,2.660416666666667,2.2808333333333333,2.4183333333333334,2.3228260869565216,2.186875,2.181489361702128,2.1191304347826088,1.891086956521739,1.9745833333333334,1.9630434782608694,1.7808333333333335,1.9164583333333332,1.8339583333333334,2.1441666666666666,5.53875,7.570625,3.3425531914893614,2.6146666666666665,2.9765,2.6475,3.3579999999999997,3.6090000000000004,2.50575,2.0609756097560976,2.125,2.604791666666667,2.1546153846153846,2.215897435897436,2.417291666666667,2.245833333333333,2.598333333333333,2.2554166666666666,2.172083333333333,2.457291666666667,2.4263829787234044,2.608139534883721,2.713469387755102,3.278333333333333,3.849375,5.051621621621622,4.749444444444444,2.9690697674418605,3.0104444444444445,3.855625,4.776052631578947,5.498857142857143,4.916279069767442,7.384782608695652,5.31448275862069,4.395882352941177,2.5980000000000003,4.323421052631579,4.20945945945946,5.678888888888888,7.911578947368421,12.378958333333335,14.906666666666666,9.970625,6.345833333333334,8.278936170212766,23.529583333333335,15.4775,18.7968085106383,17.954146341463414,9.150571428571428,4.7841025641025645,3.457631578947368,3.3957142857142855,3.218709677419355,3.429111111111111,4.1118421052631575,4.29,4.512553191489362,4.883333333333334,5.885319148936171,7.064166666666666,5.968541666666667,5.671458333333334,4.419791666666667,3.9304166666666664,3.5841666666666665,3.2358333333333333,2.936458333333333,2.535625,4.254791666666667,5.999583333333334,7.408124999999999,8.058478260869565,7.927916666666667,22.698510638297872,11.794583333333334,7.023076923076922,4.868333333333333,5.225714285714286,4.888235294117647,5.309655172413793,3.9079411764705885,2.980625,2.7183870967741934,9.458636363636364,10.194146341463414,13.25945945945946,4.116153846153846,3.277872340425532,4.945625000000001,5.0772916666666665,3.1804166666666664,2.4497916666666666,4.977291666666667,4.5997916666666665,6.319166666666667,6.661914893617022,4.411276595744681,3.0125,2.617391304347826,1.3680434782608695,1.5745833333333332,1.6087234042553191,2.167560975609756,2.30375,3.2685365853658532,3.7511904761904766,3.231951219512195,4.776511627906976,5.6425,5.15,4.253243243243244,2.8265000000000002,3.9133333333333336,4.860416666666667,4.521041666666666,4.711702127659574,4.5910416666666665,7.068666666666667,13.246190476190478,14.540238095238097,7.876585365853659,5.975581395348837,5.666956521739131,4.5419148936170215,4.688888888888889,3.905957446808511,3.5263636363636364,3.413333333333333,2.769,2.9595454545454545,4.040975609756098,4.642222222222222,4.106944444444444,4.743055555555555,8.101111111111111,9.393055555555556,7.227560975609756,6.43813953488372,7.306190476190476,7.385121951219513,6.594090909090909,11.95804347826087,11.317555555555556,8.827297297297298,8.280714285714286,4.837555555555555,2.9040000000000004,3.429111111111111,3.590222222222222,3.579047619047619,5.258857142857143,7.088235294117647,8.399189189189189,8.397021276595744,9.180416666666668,10.69,11.97318181818182,12.125,13.054893617021277,13.702083333333334,14.026875000000002,14.075625,15.035833333333334,14.642083333333334,14.611836734693878,15.220625,14.263191489361702,14.325744680851063,14.834468085106383,14.857209302325582,15.054444444444446,14.217446808510639,12.54093023255814,12.41235294117647,12.878787878787879,11.151612903225805,10.98375,10.326153846153847,10.482692307692307,5.304615384615384,5.724,7.0760000000000005,7.93923076923077,10.0844,9.667058823529413,14.310555555555558,16.390833333333333,11.628648648648648,8.669166666666666,7.874444444444445,9.05888888888889,9.192285714285715,10.6603125,9.546285714285714,10.417142857142858,10.200000000000001,10.003428571428572,11.57970588235294,14.750571428571428,13.531470588235294,12.249655172413794,12.38846153846154,11.566285714285714,12.706774193548387,10.8965625,11.338857142857144,10.544444444444444,11.96,11.449722222222222,11.811388888888889,11.473333333333334,11.001111111111111,7.662777777777778,5.099166666666666,8.464722222222223,17.106176470588235,14.115217391304347,11.428947368421053,11.137,11.774166666666666,11.707083333333332,10.477878787878787,11.515384615384615,11.936774193548388,12.266571428571428,12.4959375,11.274571428571429,10.962162162162162,10.706111111111111,10.626666666666667,9.525833333333333,6.930588235294117,5.610277777777778,4.945652173913044,4.716666666666667,4.3975,4.211666666666667,4.023076923076923,6.873103448275862,4.378857142857143,3.948709677419355,3.8728,3.817857142857143,3.895483870967742,4.270333333333334,4.263,4.700689655172414,4.538888888888889,4.776129032258065,4.3315625,4.981818181818182,5.7532000000000005,5.878461538461538,7.7112,8.3704,8.9916,8.218928571428572,7.587272727272727,7.77483870967742,7.99,5.456666666666667,4.278148148148149,5.791379310344827,9.01423076923077,6.985833333333333,6.766666666666667,6.194545454545454,5.958333333333333,6.208333333333333,6.48,6.367999999999999,5.895882352941177,5.682777777777778,5.702285714285715,6.618611111111111,7.25,7.676969696969697,7.363333333333333,7.204545454545454,6.898125,7.17,7.044545454545455,7.231818181818182,7.5028,7.433030303030303,8.490588235294117,10.93060606060606,11.562424242424242,13.23235294117647,11.524666666666667,6.51,6.1359375,9.693999999999999,10.499310344827586,12.23181818181818,11.468235294117648,12.203333333333333,10.579166666666667,17.262500000000003,21.672,26.01818181818182,26.432307692307692,24.83423076923077,25.036176470588234,26.09472222222222,42.13918918918919],\"yaxis\":\"y\",\"type\":\"scatter\"},{\"hovertemplate\":\"variable=y_pred\\u003cbr\\u003etimestamp=%{x}\\u003cbr\\u003eP2=%{y}\\u003cextra\\u003e\\u003c\\u002fextra\\u003e\",\"legendgroup\":\"y_pred\",\"line\":{\"color\":\"#EF553B\",\"dash\":\"solid\"},\"marker\":{\"symbol\":\"circle\"},\"mode\":\"lines\",\"name\":\"y_pred\",\"orientation\":\"v\",\"showlegend\":true,\"x\":[\"2018-02-26T22:00:00+03:00\",\"2018-02-26T23:00:00+03:00\",\"2018-02-27T00:00:00+03:00\",\"2018-02-27T01:00:00+03:00\",\"2018-02-27T02:00:00+03:00\",\"2018-02-27T03:00:00+03:00\",\"2018-02-27T04:00:00+03:00\",\"2018-02-27T05:00:00+03:00\",\"2018-02-27T06:00:00+03:00\",\"2018-02-27T07:00:00+03:00\",\"2018-02-27T08:00:00+03:00\",\"2018-02-27T09:00:00+03:00\",\"2018-02-27T10:00:00+03:00\",\"2018-02-27T11:00:00+03:00\",\"2018-02-27T12:00:00+03:00\",\"2018-02-27T13:00:00+03:00\",\"2018-02-27T14:00:00+03:00\",\"2018-02-27T15:00:00+03:00\",\"2018-02-27T16:00:00+03:00\",\"2018-02-27T17:00:00+03:00\",\"2018-02-27T18:00:00+03:00\",\"2018-02-27T19:00:00+03:00\",\"2018-02-27T20:00:00+03:00\",\"2018-02-27T21:00:00+03:00\",\"2018-02-27T22:00:00+03:00\",\"2018-02-27T23:00:00+03:00\",\"2018-02-28T00:00:00+03:00\",\"2018-02-28T01:00:00+03:00\",\"2018-02-28T02:00:00+03:00\",\"2018-02-28T03:00:00+03:00\",\"2018-02-28T04:00:00+03:00\",\"2018-02-28T05:00:00+03:00\",\"2018-02-28T06:00:00+03:00\",\"2018-02-28T07:00:00+03:00\",\"2018-02-28T08:00:00+03:00\",\"2018-02-28T09:00:00+03:00\",\"2018-02-28T10:00:00+03:00\",\"2018-02-28T11:00:00+03:00\",\"2018-02-28T12:00:00+03:00\",\"2018-02-28T13:00:00+03:00\",\"2018-02-28T14:00:00+03:00\",\"2018-02-28T15:00:00+03:00\",\"2018-02-28T16:00:00+03:00\",\"2018-02-28T17:00:00+03:00\",\"2018-02-28T18:00:00+03:00\",\"2018-02-28T19:00:00+03:00\",\"2018-02-28T20:00:00+03:00\",\"2018-02-28T21:00:00+03:00\",\"2018-02-28T22:00:00+03:00\",\"2018-02-28T23:00:00+03:00\",\"2018-03-01T00:00:00+03:00\",\"2018-03-01T01:00:00+03:00\",\"2018-03-01T02:00:00+03:00\",\"2018-03-01T03:00:00+03:00\",\"2018-03-01T04:00:00+03:00\",\"2018-03-01T05:00:00+03:00\",\"2018-03-01T06:00:00+03:00\",\"2018-03-01T07:00:00+03:00\",\"2018-03-01T08:00:00+03:00\",\"2018-03-01T09:00:00+03:00\",\"2018-03-01T10:00:00+03:00\",\"2018-03-01T11:00:00+03:00\",\"2018-03-01T12:00:00+03:00\",\"2018-03-01T13:00:00+03:00\",\"2018-03-01T14:00:00+03:00\",\"2018-03-01T15:00:00+03:00\",\"2018-03-01T16:00:00+03:00\",\"2018-03-01T17:00:00+03:00\",\"2018-03-01T18:00:00+03:00\",\"2018-03-01T19:00:00+03:00\",\"2018-03-01T20:00:00+03:00\",\"2018-03-01T21:00:00+03:00\",\"2018-03-01T22:00:00+03:00\",\"2018-03-01T23:00:00+03:00\",\"2018-03-02T00:00:00+03:00\",\"2018-03-02T01:00:00+03:00\",\"2018-03-02T02:00:00+03:00\",\"2018-03-02T03:00:00+03:00\",\"2018-03-02T04:00:00+03:00\",\"2018-03-02T05:00:00+03:00\",\"2018-03-02T06:00:00+03:00\",\"2018-03-02T07:00:00+03:00\",\"2018-03-02T08:00:00+03:00\",\"2018-03-02T09:00:00+03:00\",\"2018-03-02T10:00:00+03:00\",\"2018-03-02T11:00:00+03:00\",\"2018-03-02T12:00:00+03:00\",\"2018-03-02T13:00:00+03:00\",\"2018-03-02T14:00:00+03:00\",\"2018-03-02T15:00:00+03:00\",\"2018-03-02T16:00:00+03:00\",\"2018-03-02T17:00:00+03:00\",\"2018-03-02T18:00:00+03:00\",\"2018-03-02T19:00:00+03:00\",\"2018-03-02T20:00:00+03:00\",\"2018-03-02T21:00:00+03:00\",\"2018-03-02T22:00:00+03:00\",\"2018-03-02T23:00:00+03:00\",\"2018-03-03T00:00:00+03:00\",\"2018-03-03T01:00:00+03:00\",\"2018-03-03T02:00:00+03:00\",\"2018-03-03T03:00:00+03:00\",\"2018-03-03T04:00:00+03:00\",\"2018-03-03T05:00:00+03:00\",\"2018-03-03T06:00:00+03:00\",\"2018-03-03T07:00:00+03:00\",\"2018-03-03T08:00:00+03:00\",\"2018-03-03T09:00:00+03:00\",\"2018-03-03T10:00:00+03:00\",\"2018-03-03T11:00:00+03:00\",\"2018-03-03T12:00:00+03:00\",\"2018-03-03T13:00:00+03:00\",\"2018-03-03T14:00:00+03:00\",\"2018-03-03T15:00:00+03:00\",\"2018-03-03T16:00:00+03:00\",\"2018-03-03T17:00:00+03:00\",\"2018-03-03T18:00:00+03:00\",\"2018-03-03T19:00:00+03:00\",\"2018-03-03T20:00:00+03:00\",\"2018-03-03T21:00:00+03:00\",\"2018-03-03T22:00:00+03:00\",\"2018-03-03T23:00:00+03:00\",\"2018-03-04T00:00:00+03:00\",\"2018-03-04T01:00:00+03:00\",\"2018-03-04T02:00:00+03:00\",\"2018-03-04T03:00:00+03:00\",\"2018-03-04T04:00:00+03:00\",\"2018-03-04T05:00:00+03:00\",\"2018-03-04T06:00:00+03:00\",\"2018-03-04T07:00:00+03:00\",\"2018-03-04T08:00:00+03:00\",\"2018-03-04T09:00:00+03:00\",\"2018-03-04T10:00:00+03:00\",\"2018-03-04T11:00:00+03:00\",\"2018-03-04T12:00:00+03:00\",\"2018-03-04T13:00:00+03:00\",\"2018-03-04T14:00:00+03:00\",\"2018-03-04T15:00:00+03:00\",\"2018-03-04T16:00:00+03:00\",\"2018-03-04T17:00:00+03:00\",\"2018-03-04T18:00:00+03:00\",\"2018-03-04T19:00:00+03:00\",\"2018-03-04T20:00:00+03:00\",\"2018-03-04T21:00:00+03:00\",\"2018-03-04T22:00:00+03:00\",\"2018-03-04T23:00:00+03:00\",\"2018-03-05T00:00:00+03:00\",\"2018-03-05T01:00:00+03:00\",\"2018-03-05T02:00:00+03:00\",\"2018-03-05T03:00:00+03:00\",\"2018-03-05T04:00:00+03:00\",\"2018-03-05T05:00:00+03:00\",\"2018-03-05T06:00:00+03:00\",\"2018-03-05T07:00:00+03:00\",\"2018-03-05T08:00:00+03:00\",\"2018-03-05T09:00:00+03:00\",\"2018-03-05T10:00:00+03:00\",\"2018-03-05T11:00:00+03:00\",\"2018-03-05T12:00:00+03:00\",\"2018-03-05T13:00:00+03:00\",\"2018-03-05T14:00:00+03:00\",\"2018-03-05T15:00:00+03:00\",\"2018-03-05T16:00:00+03:00\",\"2018-03-05T17:00:00+03:00\",\"2018-03-05T18:00:00+03:00\",\"2018-03-05T19:00:00+03:00\",\"2018-03-05T20:00:00+03:00\",\"2018-03-05T21:00:00+03:00\",\"2018-03-05T22:00:00+03:00\",\"2018-03-05T23:00:00+03:00\",\"2018-03-06T00:00:00+03:00\",\"2018-03-06T01:00:00+03:00\",\"2018-03-06T02:00:00+03:00\",\"2018-03-06T03:00:00+03:00\",\"2018-03-06T04:00:00+03:00\",\"2018-03-06T05:00:00+03:00\",\"2018-03-06T06:00:00+03:00\",\"2018-03-06T07:00:00+03:00\",\"2018-03-06T08:00:00+03:00\",\"2018-03-06T09:00:00+03:00\",\"2018-03-06T10:00:00+03:00\",\"2018-03-06T11:00:00+03:00\",\"2018-03-06T12:00:00+03:00\",\"2018-03-06T13:00:00+03:00\",\"2018-03-06T14:00:00+03:00\",\"2018-03-06T15:00:00+03:00\",\"2018-03-06T16:00:00+03:00\",\"2018-03-06T17:00:00+03:00\",\"2018-03-06T18:00:00+03:00\",\"2018-03-06T19:00:00+03:00\",\"2018-03-06T20:00:00+03:00\",\"2018-03-06T21:00:00+03:00\",\"2018-03-06T22:00:00+03:00\",\"2018-03-06T23:00:00+03:00\",\"2018-03-07T00:00:00+03:00\",\"2018-03-07T01:00:00+03:00\",\"2018-03-07T02:00:00+03:00\",\"2018-03-07T03:00:00+03:00\",\"2018-03-07T04:00:00+03:00\",\"2018-03-07T05:00:00+03:00\",\"2018-03-07T06:00:00+03:00\",\"2018-03-07T07:00:00+03:00\",\"2018-03-07T08:00:00+03:00\",\"2018-03-07T09:00:00+03:00\",\"2018-03-07T10:00:00+03:00\",\"2018-03-07T11:00:00+03:00\",\"2018-03-07T12:00:00+03:00\",\"2018-03-07T13:00:00+03:00\",\"2018-03-07T14:00:00+03:00\",\"2018-03-07T15:00:00+03:00\",\"2018-03-07T16:00:00+03:00\",\"2018-03-07T17:00:00+03:00\",\"2018-03-07T18:00:00+03:00\",\"2018-03-07T19:00:00+03:00\",\"2018-03-07T20:00:00+03:00\",\"2018-03-07T21:00:00+03:00\",\"2018-03-07T22:00:00+03:00\",\"2018-03-07T23:00:00+03:00\",\"2018-03-08T00:00:00+03:00\",\"2018-03-08T01:00:00+03:00\",\"2018-03-08T02:00:00+03:00\",\"2018-03-08T03:00:00+03:00\",\"2018-03-08T04:00:00+03:00\",\"2018-03-08T05:00:00+03:00\",\"2018-03-08T06:00:00+03:00\",\"2018-03-08T07:00:00+03:00\",\"2018-03-08T08:00:00+03:00\",\"2018-03-08T09:00:00+03:00\",\"2018-03-08T10:00:00+03:00\",\"2018-03-08T11:00:00+03:00\",\"2018-03-08T12:00:00+03:00\",\"2018-03-08T13:00:00+03:00\",\"2018-03-08T14:00:00+03:00\",\"2018-03-08T15:00:00+03:00\",\"2018-03-08T16:00:00+03:00\",\"2018-03-08T17:00:00+03:00\",\"2018-03-08T18:00:00+03:00\",\"2018-03-08T19:00:00+03:00\",\"2018-03-08T20:00:00+03:00\",\"2018-03-08T21:00:00+03:00\",\"2018-03-08T22:00:00+03:00\",\"2018-03-08T23:00:00+03:00\",\"2018-03-09T00:00:00+03:00\",\"2018-03-09T01:00:00+03:00\",\"2018-03-09T02:00:00+03:00\",\"2018-03-09T03:00:00+03:00\",\"2018-03-09T04:00:00+03:00\",\"2018-03-09T05:00:00+03:00\",\"2018-03-09T06:00:00+03:00\",\"2018-03-09T07:00:00+03:00\",\"2018-03-09T08:00:00+03:00\",\"2018-03-09T09:00:00+03:00\",\"2018-03-09T10:00:00+03:00\",\"2018-03-09T11:00:00+03:00\",\"2018-03-09T12:00:00+03:00\",\"2018-03-09T13:00:00+03:00\",\"2018-03-09T14:00:00+03:00\",\"2018-03-09T15:00:00+03:00\",\"2018-03-09T16:00:00+03:00\",\"2018-03-09T17:00:00+03:00\",\"2018-03-09T18:00:00+03:00\",\"2018-03-09T19:00:00+03:00\",\"2018-03-09T20:00:00+03:00\",\"2018-03-09T21:00:00+03:00\",\"2018-03-09T22:00:00+03:00\",\"2018-03-09T23:00:00+03:00\",\"2018-03-10T00:00:00+03:00\",\"2018-03-10T01:00:00+03:00\",\"2018-03-10T02:00:00+03:00\",\"2018-03-10T03:00:00+03:00\",\"2018-03-10T04:00:00+03:00\",\"2018-03-10T05:00:00+03:00\",\"2018-03-10T06:00:00+03:00\",\"2018-03-10T07:00:00+03:00\",\"2018-03-10T08:00:00+03:00\",\"2018-03-10T09:00:00+03:00\",\"2018-03-10T10:00:00+03:00\",\"2018-03-10T11:00:00+03:00\",\"2018-03-10T12:00:00+03:00\",\"2018-03-10T13:00:00+03:00\",\"2018-03-10T14:00:00+03:00\",\"2018-03-10T15:00:00+03:00\",\"2018-03-10T16:00:00+03:00\",\"2018-03-10T17:00:00+03:00\",\"2018-03-10T18:00:00+03:00\",\"2018-03-10T19:00:00+03:00\",\"2018-03-10T20:00:00+03:00\",\"2018-03-10T21:00:00+03:00\",\"2018-03-10T22:00:00+03:00\",\"2018-03-10T23:00:00+03:00\",\"2018-03-11T00:00:00+03:00\",\"2018-03-11T01:00:00+03:00\",\"2018-03-11T02:00:00+03:00\",\"2018-03-11T03:00:00+03:00\",\"2018-03-11T04:00:00+03:00\",\"2018-03-11T05:00:00+03:00\",\"2018-03-11T06:00:00+03:00\",\"2018-03-11T07:00:00+03:00\",\"2018-03-11T08:00:00+03:00\",\"2018-03-11T09:00:00+03:00\",\"2018-03-11T10:00:00+03:00\",\"2018-03-11T11:00:00+03:00\",\"2018-03-11T12:00:00+03:00\",\"2018-03-11T13:00:00+03:00\",\"2018-03-11T14:00:00+03:00\",\"2018-03-11T15:00:00+03:00\",\"2018-03-11T16:00:00+03:00\",\"2018-03-11T17:00:00+03:00\",\"2018-03-11T18:00:00+03:00\",\"2018-03-11T19:00:00+03:00\",\"2018-03-11T20:00:00+03:00\",\"2018-03-11T21:00:00+03:00\",\"2018-03-11T22:00:00+03:00\",\"2018-03-11T23:00:00+03:00\",\"2018-03-12T00:00:00+03:00\",\"2018-03-12T01:00:00+03:00\",\"2018-03-12T02:00:00+03:00\",\"2018-03-12T03:00:00+03:00\",\"2018-03-12T04:00:00+03:00\",\"2018-03-12T05:00:00+03:00\",\"2018-03-12T06:00:00+03:00\",\"2018-03-12T07:00:00+03:00\",\"2018-03-12T08:00:00+03:00\",\"2018-03-12T09:00:00+03:00\",\"2018-03-12T10:00:00+03:00\",\"2018-03-12T11:00:00+03:00\",\"2018-03-12T12:00:00+03:00\",\"2018-03-12T13:00:00+03:00\",\"2018-03-12T14:00:00+03:00\",\"2018-03-12T15:00:00+03:00\",\"2018-03-12T16:00:00+03:00\",\"2018-03-12T17:00:00+03:00\",\"2018-03-12T18:00:00+03:00\",\"2018-03-12T19:00:00+03:00\",\"2018-03-12T20:00:00+03:00\",\"2018-03-12T21:00:00+03:00\",\"2018-03-12T22:00:00+03:00\",\"2018-03-12T23:00:00+03:00\",\"2018-03-13T00:00:00+03:00\",\"2018-03-13T01:00:00+03:00\",\"2018-03-13T02:00:00+03:00\"],\"xaxis\":\"x\",\"y\":[4.141925511240933,4.075355271100001,4.954396946031823,4.500199205227754,4.177569419347887,3.3003623573333356,3.3876375146834534,13.56633206725565,20.433812391715556,24.552780478545756,27.694424055590407,23.420300133471102,12.089955402892775,5.807491952562257,3.5328115580594077,2.6281152551497655,2.6597211933807836,2.7121187428596616,2.9762880423458515,3.1711873757794855,3.0150800486978895,2.6569373984908724,2.786670740497805,2.6965582004371265,2.568286281452802,2.563204849778449,2.504368253464011,2.2892057621355173,2.3679858640208864,2.3570978351857854,2.1851797911929363,2.3131440421725014,2.235304036968342,2.5279903191627695,5.730831341376343,7.647936318033332,3.658686238299657,2.9719142276301276,3.313309482778068,3.0028929771760255,3.673260537146393,3.9100828560099576,2.8691496955070606,2.449498291249337,2.5099062775496823,2.962597014885994,2.5378488435204063,2.595669391286666,2.785687912149268,2.6239143659800166,2.956503479125062,2.6329563867865606,2.554330118903571,2.8234285207331027,2.7942657033954386,2.9657557794852463,3.065136098220539,3.598093825050255,4.13688032571844,5.271218304914927,4.9861095407446285,3.3062989453114775,3.3453365825624055,4.1427772958096645,5.011214770138846,5.693191823708358,5.143520548058278,7.472591194320799,5.519231786999518,4.652518328106957,2.9561889740535303,4.584149988795451,4.4766254917579715,5.863054515199569,7.969631554851957,12.184671974881821,14.569603245442595,9.912372833063426,6.492326745823096,8.316238683797284,22.705456314634926,15.108193180441072,18.240011262165876,17.44494668478501,9.138639811636885,5.018810003951349,3.767264447737445,3.7088445395254372,3.5418379985455877,3.7403549524065443,4.384522032865165,4.552616717149747,4.762599039376828,5.112435744476632,6.057824606307163,7.170085174974463,6.136346317982861,5.856043672980004,4.675077129377502,4.213344371234648,3.8866522281808265,3.557994428429931,3.2755295610602913,2.8973372125431127,4.5193971189691835,6.165634602769274,7.494615095661501,8.108233292153976,7.985046441581649,21.92132658243377,11.633305271352357,7.131316376733697,5.098283016257693,5.435477382235885,5.117060819057983,5.514676885963538,4.192138404279147,3.317201483038276,3.069776031501007,9.429303764954142,10.123268619521037,13.01543818385062,4.388590225996926,3.597658871227924,5.171208879719166,5.295438382974289,3.505707960287743,2.8163521566236334,5.201086861514702,4.84490986800476,6.467166340100539,6.790554507003957,4.667043030409246,3.3472760305035196,2.974484964736563,1.795706282501241,1.9905797781825372,2.022791454524813,2.550063205585531,2.6785596221586947,3.5888504442893767,4.044241733666304,3.554331594974894,5.011647840157785,5.828721044890664,5.364039801702198,4.5179361579105475,3.1717822005886873,4.197225986318635,5.090813520808809,4.770608044855335,4.950499090624006,4.8366541098770455,7.174330993440146,13.002918696254117,14.22387231323711,7.9366145782795785,6.1429884091011155,5.851796145247629,4.790302252060707,4.928974452749656,4.190266725161332,3.8321141896401714,3.725468379020698,3.1175300757494244,3.2973126111851467,4.317658416149165,4.884943742735182,4.37990101536678,4.980081526873599,8.148458034998463,9.367427274744408,7.324250191440647,6.579419051387438,7.398438321554631,7.472911369155022,6.726561545689055,11.787532405071534,11.183222305234164,8.83362575029448,8.317916362826276,5.069243714652909,3.2449046297198674,3.7403549524065443,3.8923657369803237,3.8818223288680143,5.466748172205348,7.192794291168903,8.429699236802623,8.427653778286796,9.166799247862981,10.591114090563332,11.801815659110673,11.94505842350841,12.822427199123572,13.433060543193985,13.739506422267937,13.785502788979484,14.69147396066123,14.319964844914105,14.291426718908003,14.865827709691759,13.962474625440585,14.021494513332325,14.501482785268227,14.522939469712972,14.709033827155098,13.919313823070773,12.337494926137413,12.216180295467282,12.656268755722722,11.026652888010652,10.868271684850871,10.247819708637296,10.395516128768264,5.509921769497405,5.9056175348802284,7.181250105013849,7.995721469490379,10.019721276604072,9.62595352692673,14.007163342519613,15.969937076438637,11.476743371723186,8.684427094400839,7.934594586356731,9.05213594053362,9.177997874874315,10.563103482630018,9.512002260841253,10.33366922486646,10.128791635411355,9.943323501799366,11.430565127078776,14.422325013373772,13.272084822390017,12.062672475258896,12.193638393507708,11.417902994324916,12.493971226580557,10.786008952078292,11.203320676948255,10.45378020932771,11.789378413100092,11.307923566096585,11.64916156870876,11.330201008663433,10.884652157326492,7.734883865933938,5.3160777782935735,8.491530650527906,16.64487421009538,13.822858812557369,11.288322175454176,11.012865391487688,11.614041835721023,11.550747690075216,10.390974499588449,11.369877033072079,11.767464511341736,12.078633220317625,12.295043598422566,11.14266612743852,10.847903231400641,10.60631516902071,10.531358126972261,9.49270512823797,7.044051892632612,5.798318887975909,5.1712345187195625,4.955183208710652,4.654044602718803,4.478708025339737,4.300770732946079,6.989814121473086,4.63645478336098,4.230604105200575,4.158982169620348,4.107142747972695,4.180384747004343,4.534060917929362,4.527141806355658,4.940108655282052,4.787447170560275,5.011286855341998,4.591831568256388,5.205357697429256,5.933168179146429,6.0513543464885755,7.780570969325146,8.402536198786745,8.988647850093702,8.259620601353031,7.663643702003593,7.840615060143041,8.043623011154477,5.653384467511598,4.541434314606389,5.9691909393395495,9.010000325180942,7.096176483164453,6.889389398632192,6.349584330402795,6.126714600167194,6.362593403816162,6.618915037114708,6.51324133307997,6.067791150000766,5.86672374103411,5.885129775934718,6.74969672936008,7.34542175235353,7.748274157615828,7.4523534766743955,7.302534697144626,7.013422336217608,7.26994053518586,7.151572262809287,7.328266930269969,7.583942398603367,7.518113627994714,8.515935627402174,10.818129569469127,11.414259636872883,12.989862771435899,11.378634789679355,6.647220493552584,6.294286833592816,9.651372936825842,10.411195499642119,12.045843003249331,11.325390931098827,12.01896711531842,10.486541154278957,16.79236783849471,20.952798177255207,25.053486848109706,25.444220911105283,23.93641102008765,24.12694986184065,25.12570388385314],\"yaxis\":\"y\",\"type\":\"scatter\"}],                        {\"template\":{\"data\":{\"histogram2dcontour\":[{\"type\":\"histogram2dcontour\",\"colorbar\":{\"outlinewidth\":0,\"ticks\":\"\"},\"colorscale\":[[0.0,\"#0d0887\"],[0.1111111111111111,\"#46039f\"],[0.2222222222222222,\"#7201a8\"],[0.3333333333333333,\"#9c179e\"],[0.4444444444444444,\"#bd3786\"],[0.5555555555555556,\"#d8576b\"],[0.6666666666666666,\"#ed7953\"],[0.7777777777777778,\"#fb9f3a\"],[0.8888888888888888,\"#fdca26\"],[1.0,\"#f0f921\"]]}],\"choropleth\":[{\"type\":\"choropleth\",\"colorbar\":{\"outlinewidth\":0,\"ticks\":\"\"}}],\"histogram2d\":[{\"type\":\"histogram2d\",\"colorbar\":{\"outlinewidth\":0,\"ticks\":\"\"},\"colorscale\":[[0.0,\"#0d0887\"],[0.1111111111111111,\"#46039f\"],[0.2222222222222222,\"#7201a8\"],[0.3333333333333333,\"#9c179e\"],[0.4444444444444444,\"#bd3786\"],[0.5555555555555556,\"#d8576b\"],[0.6666666666666666,\"#ed7953\"],[0.7777777777777778,\"#fb9f3a\"],[0.8888888888888888,\"#fdca26\"],[1.0,\"#f0f921\"]]}],\"heatmap\":[{\"type\":\"heatmap\",\"colorbar\":{\"outlinewidth\":0,\"ticks\":\"\"},\"colorscale\":[[0.0,\"#0d0887\"],[0.1111111111111111,\"#46039f\"],[0.2222222222222222,\"#7201a8\"],[0.3333333333333333,\"#9c179e\"],[0.4444444444444444,\"#bd3786\"],[0.5555555555555556,\"#d8576b\"],[0.6666666666666666,\"#ed7953\"],[0.7777777777777778,\"#fb9f3a\"],[0.8888888888888888,\"#fdca26\"],[1.0,\"#f0f921\"]]}],\"heatmapgl\":[{\"type\":\"heatmapgl\",\"colorbar\":{\"outlinewidth\":0,\"ticks\":\"\"},\"colorscale\":[[0.0,\"#0d0887\"],[0.1111111111111111,\"#46039f\"],[0.2222222222222222,\"#7201a8\"],[0.3333333333333333,\"#9c179e\"],[0.4444444444444444,\"#bd3786\"],[0.5555555555555556,\"#d8576b\"],[0.6666666666666666,\"#ed7953\"],[0.7777777777777778,\"#fb9f3a\"],[0.8888888888888888,\"#fdca26\"],[1.0,\"#f0f921\"]]}],\"contourcarpet\":[{\"type\":\"contourcarpet\",\"colorbar\":{\"outlinewidth\":0,\"ticks\":\"\"}}],\"contour\":[{\"type\":\"contour\",\"colorbar\":{\"outlinewidth\":0,\"ticks\":\"\"},\"colorscale\":[[0.0,\"#0d0887\"],[0.1111111111111111,\"#46039f\"],[0.2222222222222222,\"#7201a8\"],[0.3333333333333333,\"#9c179e\"],[0.4444444444444444,\"#bd3786\"],[0.5555555555555556,\"#d8576b\"],[0.6666666666666666,\"#ed7953\"],[0.7777777777777778,\"#fb9f3a\"],[0.8888888888888888,\"#fdca26\"],[1.0,\"#f0f921\"]]}],\"surface\":[{\"type\":\"surface\",\"colorbar\":{\"outlinewidth\":0,\"ticks\":\"\"},\"colorscale\":[[0.0,\"#0d0887\"],[0.1111111111111111,\"#46039f\"],[0.2222222222222222,\"#7201a8\"],[0.3333333333333333,\"#9c179e\"],[0.4444444444444444,\"#bd3786\"],[0.5555555555555556,\"#d8576b\"],[0.6666666666666666,\"#ed7953\"],[0.7777777777777778,\"#fb9f3a\"],[0.8888888888888888,\"#fdca26\"],[1.0,\"#f0f921\"]]}],\"mesh3d\":[{\"type\":\"mesh3d\",\"colorbar\":{\"outlinewidth\":0,\"ticks\":\"\"}}],\"scatter\":[{\"fillpattern\":{\"fillmode\":\"overlay\",\"size\":10,\"solidity\":0.2},\"type\":\"scatter\"}],\"parcoords\":[{\"type\":\"parcoords\",\"line\":{\"colorbar\":{\"outlinewidth\":0,\"ticks\":\"\"}}}],\"scatterpolargl\":[{\"type\":\"scatterpolargl\",\"marker\":{\"colorbar\":{\"outlinewidth\":0,\"ticks\":\"\"}}}],\"bar\":[{\"error_x\":{\"color\":\"#2a3f5f\"},\"error_y\":{\"color\":\"#2a3f5f\"},\"marker\":{\"line\":{\"color\":\"#E5ECF6\",\"width\":0.5},\"pattern\":{\"fillmode\":\"overlay\",\"size\":10,\"solidity\":0.2}},\"type\":\"bar\"}],\"scattergeo\":[{\"type\":\"scattergeo\",\"marker\":{\"colorbar\":{\"outlinewidth\":0,\"ticks\":\"\"}}}],\"scatterpolar\":[{\"type\":\"scatterpolar\",\"marker\":{\"colorbar\":{\"outlinewidth\":0,\"ticks\":\"\"}}}],\"histogram\":[{\"marker\":{\"pattern\":{\"fillmode\":\"overlay\",\"size\":10,\"solidity\":0.2}},\"type\":\"histogram\"}],\"scattergl\":[{\"type\":\"scattergl\",\"marker\":{\"colorbar\":{\"outlinewidth\":0,\"ticks\":\"\"}}}],\"scatter3d\":[{\"type\":\"scatter3d\",\"line\":{\"colorbar\":{\"outlinewidth\":0,\"ticks\":\"\"}},\"marker\":{\"colorbar\":{\"outlinewidth\":0,\"ticks\":\"\"}}}],\"scattermapbox\":[{\"type\":\"scattermapbox\",\"marker\":{\"colorbar\":{\"outlinewidth\":0,\"ticks\":\"\"}}}],\"scatterternary\":[{\"type\":\"scatterternary\",\"marker\":{\"colorbar\":{\"outlinewidth\":0,\"ticks\":\"\"}}}],\"scattercarpet\":[{\"type\":\"scattercarpet\",\"marker\":{\"colorbar\":{\"outlinewidth\":0,\"ticks\":\"\"}}}],\"carpet\":[{\"aaxis\":{\"endlinecolor\":\"#2a3f5f\",\"gridcolor\":\"white\",\"linecolor\":\"white\",\"minorgridcolor\":\"white\",\"startlinecolor\":\"#2a3f5f\"},\"baxis\":{\"endlinecolor\":\"#2a3f5f\",\"gridcolor\":\"white\",\"linecolor\":\"white\",\"minorgridcolor\":\"white\",\"startlinecolor\":\"#2a3f5f\"},\"type\":\"carpet\"}],\"table\":[{\"cells\":{\"fill\":{\"color\":\"#EBF0F8\"},\"line\":{\"color\":\"white\"}},\"header\":{\"fill\":{\"color\":\"#C8D4E3\"},\"line\":{\"color\":\"white\"}},\"type\":\"table\"}],\"barpolar\":[{\"marker\":{\"line\":{\"color\":\"#E5ECF6\",\"width\":0.5},\"pattern\":{\"fillmode\":\"overlay\",\"size\":10,\"solidity\":0.2}},\"type\":\"barpolar\"}],\"pie\":[{\"automargin\":true,\"type\":\"pie\"}]},\"layout\":{\"autotypenumbers\":\"strict\",\"colorway\":[\"#636efa\",\"#EF553B\",\"#00cc96\",\"#ab63fa\",\"#FFA15A\",\"#19d3f3\",\"#FF6692\",\"#B6E880\",\"#FF97FF\",\"#FECB52\"],\"font\":{\"color\":\"#2a3f5f\"},\"hovermode\":\"closest\",\"hoverlabel\":{\"align\":\"left\"},\"paper_bgcolor\":\"white\",\"plot_bgcolor\":\"#E5ECF6\",\"polar\":{\"bgcolor\":\"#E5ECF6\",\"angularaxis\":{\"gridcolor\":\"white\",\"linecolor\":\"white\",\"ticks\":\"\"},\"radialaxis\":{\"gridcolor\":\"white\",\"linecolor\":\"white\",\"ticks\":\"\"}},\"ternary\":{\"bgcolor\":\"#E5ECF6\",\"aaxis\":{\"gridcolor\":\"white\",\"linecolor\":\"white\",\"ticks\":\"\"},\"baxis\":{\"gridcolor\":\"white\",\"linecolor\":\"white\",\"ticks\":\"\"},\"caxis\":{\"gridcolor\":\"white\",\"linecolor\":\"white\",\"ticks\":\"\"}},\"coloraxis\":{\"colorbar\":{\"outlinewidth\":0,\"ticks\":\"\"}},\"colorscale\":{\"sequential\":[[0.0,\"#0d0887\"],[0.1111111111111111,\"#46039f\"],[0.2222222222222222,\"#7201a8\"],[0.3333333333333333,\"#9c179e\"],[0.4444444444444444,\"#bd3786\"],[0.5555555555555556,\"#d8576b\"],[0.6666666666666666,\"#ed7953\"],[0.7777777777777778,\"#fb9f3a\"],[0.8888888888888888,\"#fdca26\"],[1.0,\"#f0f921\"]],\"sequentialminus\":[[0.0,\"#0d0887\"],[0.1111111111111111,\"#46039f\"],[0.2222222222222222,\"#7201a8\"],[0.3333333333333333,\"#9c179e\"],[0.4444444444444444,\"#bd3786\"],[0.5555555555555556,\"#d8576b\"],[0.6666666666666666,\"#ed7953\"],[0.7777777777777778,\"#fb9f3a\"],[0.8888888888888888,\"#fdca26\"],[1.0,\"#f0f921\"]],\"diverging\":[[0,\"#8e0152\"],[0.1,\"#c51b7d\"],[0.2,\"#de77ae\"],[0.3,\"#f1b6da\"],[0.4,\"#fde0ef\"],[0.5,\"#f7f7f7\"],[0.6,\"#e6f5d0\"],[0.7,\"#b8e186\"],[0.8,\"#7fbc41\"],[0.9,\"#4d9221\"],[1,\"#276419\"]]},\"xaxis\":{\"gridcolor\":\"white\",\"linecolor\":\"white\",\"ticks\":\"\",\"title\":{\"standoff\":15},\"zerolinecolor\":\"white\",\"automargin\":true,\"zerolinewidth\":2},\"yaxis\":{\"gridcolor\":\"white\",\"linecolor\":\"white\",\"ticks\":\"\",\"title\":{\"standoff\":15},\"zerolinecolor\":\"white\",\"automargin\":true,\"zerolinewidth\":2},\"scene\":{\"xaxis\":{\"backgroundcolor\":\"#E5ECF6\",\"gridcolor\":\"white\",\"linecolor\":\"white\",\"showbackground\":true,\"ticks\":\"\",\"zerolinecolor\":\"white\",\"gridwidth\":2},\"yaxis\":{\"backgroundcolor\":\"#E5ECF6\",\"gridcolor\":\"white\",\"linecolor\":\"white\",\"showbackground\":true,\"ticks\":\"\",\"zerolinecolor\":\"white\",\"gridwidth\":2},\"zaxis\":{\"backgroundcolor\":\"#E5ECF6\",\"gridcolor\":\"white\",\"linecolor\":\"white\",\"showbackground\":true,\"ticks\":\"\",\"zerolinecolor\":\"white\",\"gridwidth\":2}},\"shapedefaults\":{\"line\":{\"color\":\"#2a3f5f\"}},\"annotationdefaults\":{\"arrowcolor\":\"#2a3f5f\",\"arrowhead\":0,\"arrowwidth\":1},\"geo\":{\"bgcolor\":\"white\",\"landcolor\":\"#E5ECF6\",\"subunitcolor\":\"white\",\"showland\":true,\"showlakes\":true,\"lakecolor\":\"white\"},\"title\":{\"x\":0.05},\"mapbox\":{\"style\":\"light\"}}},\"xaxis\":{\"anchor\":\"y\",\"domain\":[0.0,1.0],\"title\":{\"text\":\"timestamp\"}},\"yaxis\":{\"anchor\":\"x\",\"domain\":[0.0,1.0],\"title\":{\"text\":\"P2\"}},\"legend\":{\"title\":{\"text\":\"variable\"},\"tracegroupgap\":0},\"margin\":{\"t\":60}},                        {\"responsive\": true}                    ).then(function(){\n",
              "                            \n",
              "var gd = document.getElementById('68280ea6-a4db-421c-986d-ae8d2108e592');\n",
              "var x = new MutationObserver(function (mutations, observer) {{\n",
              "        var display = window.getComputedStyle(gd).display;\n",
              "        if (!display || display === 'none') {{\n",
              "            console.log([gd, 'removed!']);\n",
              "            Plotly.purge(gd);\n",
              "            observer.disconnect();\n",
              "        }}\n",
              "}});\n",
              "\n",
              "// Listen for the removal of the full notebook cells\n",
              "var notebookContainer = gd.closest('#notebook-container');\n",
              "if (notebookContainer) {{\n",
              "    x.observe(notebookContainer, {childList: true});\n",
              "}}\n",
              "\n",
              "// Listen for the clearing of the current output cell\n",
              "var outputEl = gd.closest('.output');\n",
              "if (outputEl) {{\n",
              "    x.observe(outputEl, {childList: true});\n",
              "}}\n",
              "\n",
              "                        })                };                            </script>        </div>\n",
              "</body>\n",
              "</html>"
            ]
          },
          "metadata": {}
        }
      ]
    }
  ]
}